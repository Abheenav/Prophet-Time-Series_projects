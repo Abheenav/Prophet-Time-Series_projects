{
  "nbformat": 4,
  "nbformat_minor": 0,
  "metadata": {
    "kernelspec": {
      "display_name": "Python 3",
      "language": "python",
      "name": "python3"
    },
    "language_info": {
      "codemirror_mode": {
        "name": "ipython",
        "version": 3
      },
      "file_extension": ".py",
      "mimetype": "text/x-python",
      "name": "python",
      "nbconvert_exporter": "python",
      "pygments_lexer": "ipython3",
      "version": "3.6.5"
    },
    "varInspector": {
      "cols": {
        "lenName": 16,
        "lenType": 16,
        "lenVar": 40
      },
      "kernels_config": {
        "python": {
          "delete_cmd_postfix": "",
          "delete_cmd_prefix": "del ",
          "library": "var_list.py",
          "varRefreshCmd": "print(var_dic_list())"
        },
        "r": {
          "delete_cmd_postfix": ") ",
          "delete_cmd_prefix": "rm(",
          "library": "var_list.r",
          "varRefreshCmd": "cat(var_dic_list()) "
        }
      },
      "types_to_exclude": [
        "module",
        "function",
        "builtin_function_or_method",
        "instance",
        "_Feature"
      ],
      "window_display": false
    },
    "colab": {
      "name": "Predict Crime Rate in Chicago.ipynb",
      "provenance": []
    }
  },
  "cells": [
    {
      "cell_type": "markdown",
      "metadata": {
        "id": "0r5kCbwkrXRP"
      },
      "source": [
        "# PREDICTING CRIME RATE IN CHICAGO USING FACEBOOK PROPHET \n",
        "\n",
        "\n",
        "\n"
      ]
    },
    {
      "cell_type": "markdown",
      "metadata": {
        "id": "HGidBd0FrXRP"
      },
      "source": [
        "# STEP #0: PROBLEM STATEMENT"
      ]
    },
    {
      "cell_type": "markdown",
      "metadata": {
        "id": "LzfT_T_vrXRP"
      },
      "source": [
        "- The Chicago Crime dataset contains a summary of the reported crimes occurred in the City of Chicago from 2001 to 2017. \n",
        "- Dataset has been obtained from the Chicago Police Department's CLEAR (Citizen Law Enforcement Analysis and Reporting) system.\n",
        "- Dataset contains the following columns: \n",
        "    - ID: Unique identifier for the record.\n",
        "    - Case Number: The Chicago Police Department RD Number (Records Division Number), which is unique to the incident.\n",
        "    - Date: Date when the incident occurred.\n",
        "    - Block: address where the incident occurred\n",
        "    - IUCR: The Illinois Unifrom Crime Reporting code.\n",
        "    - Primary Type: The primary description of the IUCR code.\n",
        "    - Description: The secondary description of the IUCR code, a subcategory of the primary description.\n",
        "    - Location Description: Description of the location where the incident occurred.\n",
        "    - Arrest: Indicates whether an arrest was made.\n",
        "    - Domestic: Indicates whether the incident was domestic-related as defined by the Illinois Domestic Violence Act.\n",
        "    - Beat: Indicates the beat where the incident occurred. A beat is the smallest police geographic area – each beat has a dedicated police beat car. \n",
        "    - District: Indicates the police district where the incident occurred. \n",
        "    - Ward: The ward (City Council district) where the incident occurred. \n",
        "    - Community Area: Indicates the community area where the incident occurred. Chicago has 77 community areas. \n",
        "    - FBI Code: Indicates the crime classification as outlined in the FBI's National Incident-Based Reporting System (NIBRS). \n",
        "    - X Coordinate: The x coordinate of the location where the incident occurred in State Plane Illinois East NAD 1983 projection. \n",
        "    - Y Coordinate: The y coordinate of the location where the incident occurred in State Plane Illinois East NAD 1983 projection. \n",
        "    - Year: Year the incident occurred.\n",
        "    - Updated On: Date and time the record was last updated.\n",
        "    - Latitude: The latitude of the location where the incident occurred. This location is shifted from the actual location for partial redaction but falls on the same block.\n",
        "    - Longitude: The longitude of the location where the incident occurred. This location is shifted from the actual location for partial redaction but falls on the same block.\n",
        "    - Location: The location where the incident occurred in a format that allows for creation of maps and other geographic operations on this data portal. This location is shifted from the actual location for partial redaction but falls on the same block.\n",
        "- Datasource: https://www.kaggle.com/currie32/crimes-in-chicago"
      ]
    },
    {
      "cell_type": "markdown",
      "metadata": {
        "id": "fBpzsfN3rXRQ"
      },
      "source": [
        "- You must install fbprophet package as follows: \n",
        "     pip install fbprophet\n",
        "     \n",
        "- If you encounter an error, try: \n",
        "    conda install -c conda-forge fbprophet\n",
        "\n",
        "- Prophet is open source software released by Facebook’s Core Data Science team.\n",
        "\n",
        "- Prophet is a procedure for forecasting time series data based on an additive model where non-linear trends are fit with yearly, weekly, and daily seasonality, plus holiday effects. \n",
        "\n",
        "- Prophet works best with time series that have strong seasonal effects and several seasons of historical data. \n",
        "\n",
        "- For more information, please check this out: https://research.fb.com/prophet-forecasting-at-scale/\n",
        "https://facebook.github.io/prophet/docs/quick_start.html#python-api\n"
      ]
    },
    {
      "cell_type": "code",
      "metadata": {
        "colab": {
          "base_uri": "https://localhost:8080/"
        },
        "id": "ywbwewbCsNQ4",
        "outputId": "95c978cf-e8c4-4a15-b184-74314b8a96b9"
      },
      "source": [
        "from google.colab import drive\n",
        "drive.mount(\"/drive\")"
      ],
      "execution_count": 1,
      "outputs": [
        {
          "output_type": "stream",
          "text": [
            "Mounted at /drive\n"
          ],
          "name": "stdout"
        }
      ]
    },
    {
      "cell_type": "markdown",
      "metadata": {
        "id": "HNnJOMjErXRQ"
      },
      "source": [
        "# STEP #1: IMPORTING DATA"
      ]
    },
    {
      "cell_type": "code",
      "metadata": {
        "id": "ZH6JneSIrXRQ"
      },
      "source": [
        "import pandas as pd \n",
        "import numpy as np \n",
        "import matplotlib.pyplot as plt\n",
        "import random\n",
        "import seaborn as sns\n",
        "from fbprophet import Prophet\n"
      ],
      "execution_count": 2,
      "outputs": []
    },
    {
      "cell_type": "code",
      "metadata": {
        "colab": {
          "base_uri": "https://localhost:8080/"
        },
        "id": "A6HmCCrqrXRQ",
        "outputId": "4c906a81-83ae-454d-dc7b-052bca8b9640"
      },
      "source": [
        "# dataframes creation for both training and testing datasets \n",
        "chicago_df_1 = pd.read_csv('/drive/My Drive/Chicago_Crimes_2005_to_2007.csv', error_bad_lines=False)\n",
        "chicago_df_2 = pd.read_csv('/drive/My Drive/Chicago_Crimes_2008_to_2011.csv', error_bad_lines=False)\n",
        "chicago_df_3 = pd.read_csv('/drive/My Drive/Chicago_Crimes_2012_to_2017.csv', error_bad_lines=False)\n"
      ],
      "execution_count": 3,
      "outputs": [
        {
          "output_type": "stream",
          "text": [
            "b'Skipping line 533719: expected 23 fields, saw 24\\n'\n",
            "b'Skipping line 1149094: expected 23 fields, saw 41\\n'\n"
          ],
          "name": "stderr"
        }
      ]
    },
    {
      "cell_type": "code",
      "metadata": {
        "id": "vdCRYtkbrXRR"
      },
      "source": [
        "\n",
        "chicago_df = pd.concat([chicago_df_1, chicago_df_2, chicago_df_3], ignore_index=False, axis=0)\n"
      ],
      "execution_count": 4,
      "outputs": []
    },
    {
      "cell_type": "markdown",
      "metadata": {
        "id": "p3YK-8vprXRR"
      },
      "source": [
        "# STEP #2: EXPLORING THE DATASET  "
      ]
    },
    {
      "cell_type": "code",
      "metadata": {
        "colab": {
          "base_uri": "https://localhost:8080/",
          "height": 413
        },
        "id": "5MkOd8fnrXRR",
        "outputId": "d76e9543-e6a6-4e51-cb99-2c14577f60cb"
      },
      "source": [
        "# Let's view the head of the training dataset\n",
        "chicago_df.head()"
      ],
      "execution_count": 5,
      "outputs": [
        {
          "output_type": "execute_result",
          "data": {
            "text/html": [
              "<div>\n",
              "<style scoped>\n",
              "    .dataframe tbody tr th:only-of-type {\n",
              "        vertical-align: middle;\n",
              "    }\n",
              "\n",
              "    .dataframe tbody tr th {\n",
              "        vertical-align: top;\n",
              "    }\n",
              "\n",
              "    .dataframe thead th {\n",
              "        text-align: right;\n",
              "    }\n",
              "</style>\n",
              "<table border=\"1\" class=\"dataframe\">\n",
              "  <thead>\n",
              "    <tr style=\"text-align: right;\">\n",
              "      <th></th>\n",
              "      <th>Unnamed: 0</th>\n",
              "      <th>ID</th>\n",
              "      <th>Case Number</th>\n",
              "      <th>Date</th>\n",
              "      <th>Block</th>\n",
              "      <th>IUCR</th>\n",
              "      <th>Primary Type</th>\n",
              "      <th>Description</th>\n",
              "      <th>Location Description</th>\n",
              "      <th>Arrest</th>\n",
              "      <th>Domestic</th>\n",
              "      <th>Beat</th>\n",
              "      <th>District</th>\n",
              "      <th>Ward</th>\n",
              "      <th>Community Area</th>\n",
              "      <th>FBI Code</th>\n",
              "      <th>X Coordinate</th>\n",
              "      <th>Y Coordinate</th>\n",
              "      <th>Year</th>\n",
              "      <th>Updated On</th>\n",
              "      <th>Latitude</th>\n",
              "      <th>Longitude</th>\n",
              "      <th>Location</th>\n",
              "    </tr>\n",
              "  </thead>\n",
              "  <tbody>\n",
              "    <tr>\n",
              "      <th>0</th>\n",
              "      <td>0</td>\n",
              "      <td>4673626</td>\n",
              "      <td>HM274058</td>\n",
              "      <td>04/02/2006 01:00:00 PM</td>\n",
              "      <td>055XX N MANGO AVE</td>\n",
              "      <td>2825</td>\n",
              "      <td>OTHER OFFENSE</td>\n",
              "      <td>HARASSMENT BY TELEPHONE</td>\n",
              "      <td>RESIDENCE</td>\n",
              "      <td>False</td>\n",
              "      <td>False</td>\n",
              "      <td>1622</td>\n",
              "      <td>16.0</td>\n",
              "      <td>45.0</td>\n",
              "      <td>11.0</td>\n",
              "      <td>26</td>\n",
              "      <td>1136872.0</td>\n",
              "      <td>1936499.0</td>\n",
              "      <td>2006</td>\n",
              "      <td>04/15/2016 08:55:02 AM</td>\n",
              "      <td>41.981913</td>\n",
              "      <td>-87.771996</td>\n",
              "      <td>(41.981912692, -87.771996382)</td>\n",
              "    </tr>\n",
              "    <tr>\n",
              "      <th>1</th>\n",
              "      <td>1</td>\n",
              "      <td>4673627</td>\n",
              "      <td>HM202199</td>\n",
              "      <td>02/26/2006 01:40:48 PM</td>\n",
              "      <td>065XX S RHODES AVE</td>\n",
              "      <td>2017</td>\n",
              "      <td>NARCOTICS</td>\n",
              "      <td>MANU/DELIVER:CRACK</td>\n",
              "      <td>SIDEWALK</td>\n",
              "      <td>True</td>\n",
              "      <td>False</td>\n",
              "      <td>321</td>\n",
              "      <td>3.0</td>\n",
              "      <td>20.0</td>\n",
              "      <td>42.0</td>\n",
              "      <td>18</td>\n",
              "      <td>1181027.0</td>\n",
              "      <td>1861693.0</td>\n",
              "      <td>2006</td>\n",
              "      <td>04/15/2016 08:55:02 AM</td>\n",
              "      <td>41.775733</td>\n",
              "      <td>-87.611920</td>\n",
              "      <td>(41.775732538, -87.611919814)</td>\n",
              "    </tr>\n",
              "    <tr>\n",
              "      <th>2</th>\n",
              "      <td>2</td>\n",
              "      <td>4673628</td>\n",
              "      <td>HM113861</td>\n",
              "      <td>01/08/2006 11:16:00 PM</td>\n",
              "      <td>013XX E 69TH ST</td>\n",
              "      <td>051A</td>\n",
              "      <td>ASSAULT</td>\n",
              "      <td>AGGRAVATED: HANDGUN</td>\n",
              "      <td>OTHER</td>\n",
              "      <td>False</td>\n",
              "      <td>False</td>\n",
              "      <td>321</td>\n",
              "      <td>3.0</td>\n",
              "      <td>5.0</td>\n",
              "      <td>69.0</td>\n",
              "      <td>04A</td>\n",
              "      <td>1186023.0</td>\n",
              "      <td>1859609.0</td>\n",
              "      <td>2006</td>\n",
              "      <td>04/15/2016 08:55:02 AM</td>\n",
              "      <td>41.769897</td>\n",
              "      <td>-87.593671</td>\n",
              "      <td>(41.769897392, -87.593670899)</td>\n",
              "    </tr>\n",
              "    <tr>\n",
              "      <th>3</th>\n",
              "      <td>4</td>\n",
              "      <td>4673629</td>\n",
              "      <td>HM274049</td>\n",
              "      <td>04/05/2006 06:45:00 PM</td>\n",
              "      <td>061XX W NEWPORT AVE</td>\n",
              "      <td>0460</td>\n",
              "      <td>BATTERY</td>\n",
              "      <td>SIMPLE</td>\n",
              "      <td>RESIDENCE</td>\n",
              "      <td>False</td>\n",
              "      <td>False</td>\n",
              "      <td>1633</td>\n",
              "      <td>16.0</td>\n",
              "      <td>38.0</td>\n",
              "      <td>17.0</td>\n",
              "      <td>08B</td>\n",
              "      <td>1134772.0</td>\n",
              "      <td>1922299.0</td>\n",
              "      <td>2006</td>\n",
              "      <td>04/15/2016 08:55:02 AM</td>\n",
              "      <td>41.942984</td>\n",
              "      <td>-87.780057</td>\n",
              "      <td>(41.942984005, -87.780056951)</td>\n",
              "    </tr>\n",
              "    <tr>\n",
              "      <th>4</th>\n",
              "      <td>5</td>\n",
              "      <td>4673630</td>\n",
              "      <td>HM187120</td>\n",
              "      <td>02/17/2006 09:03:14 PM</td>\n",
              "      <td>037XX W 60TH ST</td>\n",
              "      <td>1811</td>\n",
              "      <td>NARCOTICS</td>\n",
              "      <td>POSS: CANNABIS 30GMS OR LESS</td>\n",
              "      <td>ALLEY</td>\n",
              "      <td>True</td>\n",
              "      <td>False</td>\n",
              "      <td>822</td>\n",
              "      <td>8.0</td>\n",
              "      <td>13.0</td>\n",
              "      <td>65.0</td>\n",
              "      <td>18</td>\n",
              "      <td>1152412.0</td>\n",
              "      <td>1864560.0</td>\n",
              "      <td>2006</td>\n",
              "      <td>04/15/2016 08:55:02 AM</td>\n",
              "      <td>41.784211</td>\n",
              "      <td>-87.716745</td>\n",
              "      <td>(41.784210853, -87.71674491)</td>\n",
              "    </tr>\n",
              "  </tbody>\n",
              "</table>\n",
              "</div>"
            ],
            "text/plain": [
              "   Unnamed: 0       ID  ...  Longitude                       Location\n",
              "0           0  4673626  ... -87.771996  (41.981912692, -87.771996382)\n",
              "1           1  4673627  ... -87.611920  (41.775732538, -87.611919814)\n",
              "2           2  4673628  ... -87.593671  (41.769897392, -87.593670899)\n",
              "3           4  4673629  ... -87.780057  (41.942984005, -87.780056951)\n",
              "4           5  4673630  ... -87.716745   (41.784210853, -87.71674491)\n",
              "\n",
              "[5 rows x 23 columns]"
            ]
          },
          "metadata": {
            "tags": []
          },
          "execution_count": 5
        }
      ]
    },
    {
      "cell_type": "code",
      "metadata": {
        "colab": {
          "base_uri": "https://localhost:8080/",
          "height": 1000
        },
        "id": "HWCMMAmVrXRR",
        "outputId": "cbf918c2-1612-408e-872b-ebfc2321a554"
      },
      "source": [
        "# Let's view the last elements in the training dataset\n",
        "chicago_df.tail(20)"
      ],
      "execution_count": 6,
      "outputs": [
        {
          "output_type": "execute_result",
          "data": {
            "text/html": [
              "<div>\n",
              "<style scoped>\n",
              "    .dataframe tbody tr th:only-of-type {\n",
              "        vertical-align: middle;\n",
              "    }\n",
              "\n",
              "    .dataframe tbody tr th {\n",
              "        vertical-align: top;\n",
              "    }\n",
              "\n",
              "    .dataframe thead th {\n",
              "        text-align: right;\n",
              "    }\n",
              "</style>\n",
              "<table border=\"1\" class=\"dataframe\">\n",
              "  <thead>\n",
              "    <tr style=\"text-align: right;\">\n",
              "      <th></th>\n",
              "      <th>Unnamed: 0</th>\n",
              "      <th>ID</th>\n",
              "      <th>Case Number</th>\n",
              "      <th>Date</th>\n",
              "      <th>Block</th>\n",
              "      <th>IUCR</th>\n",
              "      <th>Primary Type</th>\n",
              "      <th>Description</th>\n",
              "      <th>Location Description</th>\n",
              "      <th>Arrest</th>\n",
              "      <th>Domestic</th>\n",
              "      <th>Beat</th>\n",
              "      <th>District</th>\n",
              "      <th>Ward</th>\n",
              "      <th>Community Area</th>\n",
              "      <th>FBI Code</th>\n",
              "      <th>X Coordinate</th>\n",
              "      <th>Y Coordinate</th>\n",
              "      <th>Year</th>\n",
              "      <th>Updated On</th>\n",
              "      <th>Latitude</th>\n",
              "      <th>Longitude</th>\n",
              "      <th>Location</th>\n",
              "    </tr>\n",
              "  </thead>\n",
              "  <tbody>\n",
              "    <tr>\n",
              "      <th>1456694</th>\n",
              "      <td>6246478</td>\n",
              "      <td>10508650</td>\n",
              "      <td>HZ250022</td>\n",
              "      <td>05/03/2016 05:00:00 PM</td>\n",
              "      <td>078XX S MARSHFIELD AVE</td>\n",
              "      <td>031A</td>\n",
              "      <td>ROBBERY</td>\n",
              "      <td>ARMED: HANDGUN</td>\n",
              "      <td>STREET</td>\n",
              "      <td>False</td>\n",
              "      <td>False</td>\n",
              "      <td>611</td>\n",
              "      <td>6.0</td>\n",
              "      <td>17.0</td>\n",
              "      <td>71.0</td>\n",
              "      <td>03</td>\n",
              "      <td>1166708.0</td>\n",
              "      <td>1852625.0</td>\n",
              "      <td>2016</td>\n",
              "      <td>05/10/2016 03:56:50 PM</td>\n",
              "      <td>41.751166</td>\n",
              "      <td>-87.664670</td>\n",
              "      <td>(41.751166357, -87.664670209)</td>\n",
              "    </tr>\n",
              "    <tr>\n",
              "      <th>1456695</th>\n",
              "      <td>6246521</td>\n",
              "      <td>10508653</td>\n",
              "      <td>HZ250512</td>\n",
              "      <td>05/03/2016 11:58:00 PM</td>\n",
              "      <td>026XX W LE MOYNE ST</td>\n",
              "      <td>0520</td>\n",
              "      <td>ASSAULT</td>\n",
              "      <td>AGGRAVATED:KNIFE/CUTTING INSTR</td>\n",
              "      <td>RESIDENTIAL YARD (FRONT/BACK)</td>\n",
              "      <td>True</td>\n",
              "      <td>False</td>\n",
              "      <td>1423</td>\n",
              "      <td>14.0</td>\n",
              "      <td>26.0</td>\n",
              "      <td>24.0</td>\n",
              "      <td>04A</td>\n",
              "      <td>1158381.0</td>\n",
              "      <td>1909870.0</td>\n",
              "      <td>2016</td>\n",
              "      <td>05/10/2016 03:56:50 PM</td>\n",
              "      <td>41.908427</td>\n",
              "      <td>-87.693623</td>\n",
              "      <td>(41.908426978, -87.693622615)</td>\n",
              "    </tr>\n",
              "    <tr>\n",
              "      <th>1456696</th>\n",
              "      <td>6247563</td>\n",
              "      <td>10508656</td>\n",
              "      <td>HZ250476</td>\n",
              "      <td>05/03/2016 03:15:00 PM</td>\n",
              "      <td>014XX N OGDEN AVE</td>\n",
              "      <td>1720</td>\n",
              "      <td>OFFENSE INVOLVING CHILDREN</td>\n",
              "      <td>CONTRIBUTE DELINQUENCY OF A CHILD</td>\n",
              "      <td>STREET</td>\n",
              "      <td>False</td>\n",
              "      <td>True</td>\n",
              "      <td>1822</td>\n",
              "      <td>18.0</td>\n",
              "      <td>27.0</td>\n",
              "      <td>8.0</td>\n",
              "      <td>20</td>\n",
              "      <td>1171322.0</td>\n",
              "      <td>1909588.0</td>\n",
              "      <td>2016</td>\n",
              "      <td>05/10/2016 03:56:50 PM</td>\n",
              "      <td>41.907378</td>\n",
              "      <td>-87.646092</td>\n",
              "      <td>(41.907378476, -87.64609233)</td>\n",
              "    </tr>\n",
              "    <tr>\n",
              "      <th>1456697</th>\n",
              "      <td>6247798</td>\n",
              "      <td>10508658</td>\n",
              "      <td>HZ250506</td>\n",
              "      <td>05/03/2016 11:50:00 PM</td>\n",
              "      <td>018XX S KEDZIE AVE</td>\n",
              "      <td>4625</td>\n",
              "      <td>OTHER OFFENSE</td>\n",
              "      <td>PAROLE VIOLATION</td>\n",
              "      <td>STREET</td>\n",
              "      <td>True</td>\n",
              "      <td>False</td>\n",
              "      <td>1022</td>\n",
              "      <td>10.0</td>\n",
              "      <td>24.0</td>\n",
              "      <td>29.0</td>\n",
              "      <td>26</td>\n",
              "      <td>1155317.0</td>\n",
              "      <td>1890928.0</td>\n",
              "      <td>2016</td>\n",
              "      <td>05/10/2016 03:56:50 PM</td>\n",
              "      <td>41.856510</td>\n",
              "      <td>-87.705387</td>\n",
              "      <td>(41.856510401, -87.705387422)</td>\n",
              "    </tr>\n",
              "    <tr>\n",
              "      <th>1456698</th>\n",
              "      <td>6248016</td>\n",
              "      <td>10508659</td>\n",
              "      <td>HZ250499</td>\n",
              "      <td>05/03/2016 11:38:00 PM</td>\n",
              "      <td>038XX S PRINCETON AVE</td>\n",
              "      <td>0460</td>\n",
              "      <td>BATTERY</td>\n",
              "      <td>SIMPLE</td>\n",
              "      <td>CHA PARKING LOT/GROUNDS</td>\n",
              "      <td>False</td>\n",
              "      <td>False</td>\n",
              "      <td>915</td>\n",
              "      <td>9.0</td>\n",
              "      <td>3.0</td>\n",
              "      <td>34.0</td>\n",
              "      <td>08B</td>\n",
              "      <td>1174922.0</td>\n",
              "      <td>1879297.0</td>\n",
              "      <td>2016</td>\n",
              "      <td>05/10/2016 03:56:50 PM</td>\n",
              "      <td>41.824178</td>\n",
              "      <td>-87.633775</td>\n",
              "      <td>(41.82417802, -87.6337748)</td>\n",
              "    </tr>\n",
              "    <tr>\n",
              "      <th>1456699</th>\n",
              "      <td>6248192</td>\n",
              "      <td>10508661</td>\n",
              "      <td>HZ250344</td>\n",
              "      <td>05/03/2016 08:44:00 PM</td>\n",
              "      <td>070XX S WABASH AVE</td>\n",
              "      <td>041A</td>\n",
              "      <td>BATTERY</td>\n",
              "      <td>AGGRAVATED: HANDGUN</td>\n",
              "      <td>STREET</td>\n",
              "      <td>False</td>\n",
              "      <td>False</td>\n",
              "      <td>322</td>\n",
              "      <td>3.0</td>\n",
              "      <td>6.0</td>\n",
              "      <td>69.0</td>\n",
              "      <td>04B</td>\n",
              "      <td>1177941.0</td>\n",
              "      <td>1858411.0</td>\n",
              "      <td>2016</td>\n",
              "      <td>05/10/2016 03:56:50 PM</td>\n",
              "      <td>41.766797</td>\n",
              "      <td>-87.623332</td>\n",
              "      <td>(41.766796861, -87.623332025)</td>\n",
              "    </tr>\n",
              "    <tr>\n",
              "      <th>1456700</th>\n",
              "      <td>6248278</td>\n",
              "      <td>10508662</td>\n",
              "      <td>HZ250477</td>\n",
              "      <td>05/03/2016 08:00:00 AM</td>\n",
              "      <td>057XX S MICHIGAN AVE</td>\n",
              "      <td>5001</td>\n",
              "      <td>OTHER OFFENSE</td>\n",
              "      <td>OTHER CRIME INVOLVING PROPERTY</td>\n",
              "      <td>APARTMENT</td>\n",
              "      <td>False</td>\n",
              "      <td>False</td>\n",
              "      <td>232</td>\n",
              "      <td>2.0</td>\n",
              "      <td>20.0</td>\n",
              "      <td>40.0</td>\n",
              "      <td>26</td>\n",
              "      <td>1178135.0</td>\n",
              "      <td>1867058.0</td>\n",
              "      <td>2016</td>\n",
              "      <td>05/10/2016 03:56:50 PM</td>\n",
              "      <td>41.790521</td>\n",
              "      <td>-87.622359</td>\n",
              "      <td>(41.790520722, -87.622358898)</td>\n",
              "    </tr>\n",
              "    <tr>\n",
              "      <th>1456701</th>\n",
              "      <td>6248713</td>\n",
              "      <td>10508663</td>\n",
              "      <td>HZ250466</td>\n",
              "      <td>05/03/2016 10:10:00 PM</td>\n",
              "      <td>033XX W MARQUETTE RD</td>\n",
              "      <td>1563</td>\n",
              "      <td>SEX OFFENSE</td>\n",
              "      <td>CRIMINAL SEXUAL ABUSE</td>\n",
              "      <td>APARTMENT</td>\n",
              "      <td>False</td>\n",
              "      <td>False</td>\n",
              "      <td>831</td>\n",
              "      <td>8.0</td>\n",
              "      <td>15.0</td>\n",
              "      <td>66.0</td>\n",
              "      <td>17</td>\n",
              "      <td>1155359.0</td>\n",
              "      <td>1859995.0</td>\n",
              "      <td>2016</td>\n",
              "      <td>05/10/2016 03:56:50 PM</td>\n",
              "      <td>41.771625</td>\n",
              "      <td>-87.706062</td>\n",
              "      <td>(41.771625308, -87.706062047)</td>\n",
              "    </tr>\n",
              "    <tr>\n",
              "      <th>1456702</th>\n",
              "      <td>6248779</td>\n",
              "      <td>10508664</td>\n",
              "      <td>HZ250486</td>\n",
              "      <td>05/03/2016 11:35:00 PM</td>\n",
              "      <td>083XX S CARPENTER ST</td>\n",
              "      <td>0560</td>\n",
              "      <td>ASSAULT</td>\n",
              "      <td>SIMPLE</td>\n",
              "      <td>RESIDENCE</td>\n",
              "      <td>True</td>\n",
              "      <td>True</td>\n",
              "      <td>613</td>\n",
              "      <td>6.0</td>\n",
              "      <td>21.0</td>\n",
              "      <td>71.0</td>\n",
              "      <td>08A</td>\n",
              "      <td>1170770.0</td>\n",
              "      <td>1849485.0</td>\n",
              "      <td>2016</td>\n",
              "      <td>05/10/2016 03:56:50 PM</td>\n",
              "      <td>41.742462</td>\n",
              "      <td>-87.649876</td>\n",
              "      <td>(41.742462184, -87.649876395)</td>\n",
              "    </tr>\n",
              "    <tr>\n",
              "      <th>1456703</th>\n",
              "      <td>6248999</td>\n",
              "      <td>10508665</td>\n",
              "      <td>HZ250448</td>\n",
              "      <td>05/03/2016 10:15:00 PM</td>\n",
              "      <td>095XX S LOOMIS ST</td>\n",
              "      <td>1310</td>\n",
              "      <td>CRIMINAL DAMAGE</td>\n",
              "      <td>TO PROPERTY</td>\n",
              "      <td>RESIDENCE</td>\n",
              "      <td>False</td>\n",
              "      <td>True</td>\n",
              "      <td>2213</td>\n",
              "      <td>22.0</td>\n",
              "      <td>21.0</td>\n",
              "      <td>73.0</td>\n",
              "      <td>14</td>\n",
              "      <td>1168707.0</td>\n",
              "      <td>1841343.0</td>\n",
              "      <td>2016</td>\n",
              "      <td>05/10/2016 03:56:50 PM</td>\n",
              "      <td>41.720164</td>\n",
              "      <td>-87.657669</td>\n",
              "      <td>(41.720164061, -87.657669427)</td>\n",
              "    </tr>\n",
              "    <tr>\n",
              "      <th>1456704</th>\n",
              "      <td>6249417</td>\n",
              "      <td>10508666</td>\n",
              "      <td>HZ250497</td>\n",
              "      <td>05/03/2016 11:30:00 PM</td>\n",
              "      <td>053XX S PULASKI RD</td>\n",
              "      <td>0320</td>\n",
              "      <td>ROBBERY</td>\n",
              "      <td>STRONGARM - NO WEAPON</td>\n",
              "      <td>SIDEWALK</td>\n",
              "      <td>False</td>\n",
              "      <td>False</td>\n",
              "      <td>815</td>\n",
              "      <td>8.0</td>\n",
              "      <td>23.0</td>\n",
              "      <td>62.0</td>\n",
              "      <td>03</td>\n",
              "      <td>1150606.0</td>\n",
              "      <td>1868988.0</td>\n",
              "      <td>2016</td>\n",
              "      <td>05/10/2016 03:56:50 PM</td>\n",
              "      <td>41.796397</td>\n",
              "      <td>-87.723251</td>\n",
              "      <td>(41.79639731, -87.723251281)</td>\n",
              "    </tr>\n",
              "    <tr>\n",
              "      <th>1456705</th>\n",
              "      <td>6249592</td>\n",
              "      <td>10508671</td>\n",
              "      <td>HZ250526</td>\n",
              "      <td>05/03/2016 11:50:00 PM</td>\n",
              "      <td>036XX E 106TH ST</td>\n",
              "      <td>502P</td>\n",
              "      <td>OTHER OFFENSE</td>\n",
              "      <td>FALSE/STOLEN/ALTERED TRP</td>\n",
              "      <td>ALLEY</td>\n",
              "      <td>True</td>\n",
              "      <td>False</td>\n",
              "      <td>432</td>\n",
              "      <td>4.0</td>\n",
              "      <td>10.0</td>\n",
              "      <td>52.0</td>\n",
              "      <td>26</td>\n",
              "      <td>1202327.0</td>\n",
              "      <td>1835278.0</td>\n",
              "      <td>2016</td>\n",
              "      <td>05/10/2016 03:56:50 PM</td>\n",
              "      <td>41.702731</td>\n",
              "      <td>-87.534736</td>\n",
              "      <td>(41.702731182, -87.534736413)</td>\n",
              "    </tr>\n",
              "    <tr>\n",
              "      <th>1456706</th>\n",
              "      <td>6249615</td>\n",
              "      <td>10508672</td>\n",
              "      <td>HZ250441</td>\n",
              "      <td>05/03/2016 10:25:00 PM</td>\n",
              "      <td>071XX S MOZART ST</td>\n",
              "      <td>0460</td>\n",
              "      <td>BATTERY</td>\n",
              "      <td>SIMPLE</td>\n",
              "      <td>SIDEWALK</td>\n",
              "      <td>True</td>\n",
              "      <td>False</td>\n",
              "      <td>831</td>\n",
              "      <td>8.0</td>\n",
              "      <td>18.0</td>\n",
              "      <td>66.0</td>\n",
              "      <td>08B</td>\n",
              "      <td>1158610.0</td>\n",
              "      <td>1857066.0</td>\n",
              "      <td>2016</td>\n",
              "      <td>05/10/2016 03:56:50 PM</td>\n",
              "      <td>41.763522</td>\n",
              "      <td>-87.694225</td>\n",
              "      <td>(41.763522012, -87.69422464)</td>\n",
              "    </tr>\n",
              "    <tr>\n",
              "      <th>1456707</th>\n",
              "      <td>6249936</td>\n",
              "      <td>10508675</td>\n",
              "      <td>HZ250502</td>\n",
              "      <td>05/03/2016 11:00:00 PM</td>\n",
              "      <td>085XX S MAY ST</td>\n",
              "      <td>0320</td>\n",
              "      <td>ROBBERY</td>\n",
              "      <td>STRONGARM - NO WEAPON</td>\n",
              "      <td>SIDEWALK</td>\n",
              "      <td>False</td>\n",
              "      <td>False</td>\n",
              "      <td>613</td>\n",
              "      <td>6.0</td>\n",
              "      <td>21.0</td>\n",
              "      <td>71.0</td>\n",
              "      <td>03</td>\n",
              "      <td>1170146.0</td>\n",
              "      <td>1848113.0</td>\n",
              "      <td>2016</td>\n",
              "      <td>05/10/2016 03:56:50 PM</td>\n",
              "      <td>41.738711</td>\n",
              "      <td>-87.652203</td>\n",
              "      <td>(41.738710803, -87.652202523)</td>\n",
              "    </tr>\n",
              "    <tr>\n",
              "      <th>1456708</th>\n",
              "      <td>6250154</td>\n",
              "      <td>10508678</td>\n",
              "      <td>HZ250481</td>\n",
              "      <td>05/03/2016 11:28:00 PM</td>\n",
              "      <td>088XX S LAFLIN ST</td>\n",
              "      <td>041A</td>\n",
              "      <td>BATTERY</td>\n",
              "      <td>AGGRAVATED: HANDGUN</td>\n",
              "      <td>STREET</td>\n",
              "      <td>False</td>\n",
              "      <td>False</td>\n",
              "      <td>2221</td>\n",
              "      <td>22.0</td>\n",
              "      <td>21.0</td>\n",
              "      <td>71.0</td>\n",
              "      <td>04B</td>\n",
              "      <td>1167880.0</td>\n",
              "      <td>1846134.0</td>\n",
              "      <td>2016</td>\n",
              "      <td>05/10/2016 03:56:50 PM</td>\n",
              "      <td>41.733329</td>\n",
              "      <td>-87.660561</td>\n",
              "      <td>(41.733329054, -87.660561367)</td>\n",
              "    </tr>\n",
              "    <tr>\n",
              "      <th>1456709</th>\n",
              "      <td>6250330</td>\n",
              "      <td>10508679</td>\n",
              "      <td>HZ250507</td>\n",
              "      <td>05/03/2016 11:33:00 PM</td>\n",
              "      <td>026XX W 23RD PL</td>\n",
              "      <td>0486</td>\n",
              "      <td>BATTERY</td>\n",
              "      <td>DOMESTIC BATTERY SIMPLE</td>\n",
              "      <td>APARTMENT</td>\n",
              "      <td>True</td>\n",
              "      <td>True</td>\n",
              "      <td>1034</td>\n",
              "      <td>10.0</td>\n",
              "      <td>28.0</td>\n",
              "      <td>30.0</td>\n",
              "      <td>08B</td>\n",
              "      <td>1159105.0</td>\n",
              "      <td>1888300.0</td>\n",
              "      <td>2016</td>\n",
              "      <td>05/10/2016 03:56:50 PM</td>\n",
              "      <td>41.849222</td>\n",
              "      <td>-87.691556</td>\n",
              "      <td>(41.849222028, -87.69155551)</td>\n",
              "    </tr>\n",
              "    <tr>\n",
              "      <th>1456710</th>\n",
              "      <td>6251089</td>\n",
              "      <td>10508680</td>\n",
              "      <td>HZ250491</td>\n",
              "      <td>05/03/2016 11:30:00 PM</td>\n",
              "      <td>073XX S HARVARD AVE</td>\n",
              "      <td>1310</td>\n",
              "      <td>CRIMINAL DAMAGE</td>\n",
              "      <td>TO PROPERTY</td>\n",
              "      <td>APARTMENT</td>\n",
              "      <td>True</td>\n",
              "      <td>True</td>\n",
              "      <td>731</td>\n",
              "      <td>7.0</td>\n",
              "      <td>17.0</td>\n",
              "      <td>69.0</td>\n",
              "      <td>14</td>\n",
              "      <td>1175230.0</td>\n",
              "      <td>1856183.0</td>\n",
              "      <td>2016</td>\n",
              "      <td>05/10/2016 03:56:50 PM</td>\n",
              "      <td>41.760744</td>\n",
              "      <td>-87.633335</td>\n",
              "      <td>(41.760743949, -87.63333531)</td>\n",
              "    </tr>\n",
              "    <tr>\n",
              "      <th>1456711</th>\n",
              "      <td>6251349</td>\n",
              "      <td>10508681</td>\n",
              "      <td>HZ250479</td>\n",
              "      <td>05/03/2016 12:15:00 AM</td>\n",
              "      <td>024XX W 63RD ST</td>\n",
              "      <td>041A</td>\n",
              "      <td>BATTERY</td>\n",
              "      <td>AGGRAVATED: HANDGUN</td>\n",
              "      <td>SIDEWALK</td>\n",
              "      <td>False</td>\n",
              "      <td>False</td>\n",
              "      <td>825</td>\n",
              "      <td>8.0</td>\n",
              "      <td>15.0</td>\n",
              "      <td>66.0</td>\n",
              "      <td>04B</td>\n",
              "      <td>1161027.0</td>\n",
              "      <td>1862810.0</td>\n",
              "      <td>2016</td>\n",
              "      <td>05/10/2016 03:56:50 PM</td>\n",
              "      <td>41.779235</td>\n",
              "      <td>-87.685207</td>\n",
              "      <td>(41.779234743, -87.685207125)</td>\n",
              "    </tr>\n",
              "    <tr>\n",
              "      <th>1456712</th>\n",
              "      <td>6253257</td>\n",
              "      <td>10508690</td>\n",
              "      <td>HZ250370</td>\n",
              "      <td>05/03/2016 09:07:00 PM</td>\n",
              "      <td>082XX S EXCHANGE AVE</td>\n",
              "      <td>0486</td>\n",
              "      <td>BATTERY</td>\n",
              "      <td>DOMESTIC BATTERY SIMPLE</td>\n",
              "      <td>SIDEWALK</td>\n",
              "      <td>False</td>\n",
              "      <td>True</td>\n",
              "      <td>423</td>\n",
              "      <td>4.0</td>\n",
              "      <td>7.0</td>\n",
              "      <td>46.0</td>\n",
              "      <td>08B</td>\n",
              "      <td>1197261.0</td>\n",
              "      <td>1850727.0</td>\n",
              "      <td>2016</td>\n",
              "      <td>05/10/2016 03:56:50 PM</td>\n",
              "      <td>41.745252</td>\n",
              "      <td>-87.552773</td>\n",
              "      <td>(41.745251975, -87.552773464)</td>\n",
              "    </tr>\n",
              "    <tr>\n",
              "      <th>1456713</th>\n",
              "      <td>6253474</td>\n",
              "      <td>10508692</td>\n",
              "      <td>HZ250517</td>\n",
              "      <td>05/03/2016 11:38:00 PM</td>\n",
              "      <td>001XX E 75TH ST</td>\n",
              "      <td>5007</td>\n",
              "      <td>OTHER OFFENSE</td>\n",
              "      <td>OTHER WEAPONS VIOLATION</td>\n",
              "      <td>PARKING LOT/GARAGE(NON.RESID.)</td>\n",
              "      <td>True</td>\n",
              "      <td>False</td>\n",
              "      <td>323</td>\n",
              "      <td>3.0</td>\n",
              "      <td>6.0</td>\n",
              "      <td>69.0</td>\n",
              "      <td>26</td>\n",
              "      <td>1178696.0</td>\n",
              "      <td>1855324.0</td>\n",
              "      <td>2016</td>\n",
              "      <td>05/10/2016 03:56:50 PM</td>\n",
              "      <td>41.758309</td>\n",
              "      <td>-87.620658</td>\n",
              "      <td>(41.75830866, -87.620658418)</td>\n",
              "    </tr>\n",
              "  </tbody>\n",
              "</table>\n",
              "</div>"
            ],
            "text/plain": [
              "         Unnamed: 0        ID  ...  Longitude                       Location\n",
              "1456694     6246478  10508650  ... -87.664670  (41.751166357, -87.664670209)\n",
              "1456695     6246521  10508653  ... -87.693623  (41.908426978, -87.693622615)\n",
              "1456696     6247563  10508656  ... -87.646092   (41.907378476, -87.64609233)\n",
              "1456697     6247798  10508658  ... -87.705387  (41.856510401, -87.705387422)\n",
              "1456698     6248016  10508659  ... -87.633775     (41.82417802, -87.6337748)\n",
              "1456699     6248192  10508661  ... -87.623332  (41.766796861, -87.623332025)\n",
              "1456700     6248278  10508662  ... -87.622359  (41.790520722, -87.622358898)\n",
              "1456701     6248713  10508663  ... -87.706062  (41.771625308, -87.706062047)\n",
              "1456702     6248779  10508664  ... -87.649876  (41.742462184, -87.649876395)\n",
              "1456703     6248999  10508665  ... -87.657669  (41.720164061, -87.657669427)\n",
              "1456704     6249417  10508666  ... -87.723251   (41.79639731, -87.723251281)\n",
              "1456705     6249592  10508671  ... -87.534736  (41.702731182, -87.534736413)\n",
              "1456706     6249615  10508672  ... -87.694225   (41.763522012, -87.69422464)\n",
              "1456707     6249936  10508675  ... -87.652203  (41.738710803, -87.652202523)\n",
              "1456708     6250154  10508678  ... -87.660561  (41.733329054, -87.660561367)\n",
              "1456709     6250330  10508679  ... -87.691556   (41.849222028, -87.69155551)\n",
              "1456710     6251089  10508680  ... -87.633335   (41.760743949, -87.63333531)\n",
              "1456711     6251349  10508681  ... -87.685207  (41.779234743, -87.685207125)\n",
              "1456712     6253257  10508690  ... -87.552773  (41.745251975, -87.552773464)\n",
              "1456713     6253474  10508692  ... -87.620658   (41.75830866, -87.620658418)\n",
              "\n",
              "[20 rows x 23 columns]"
            ]
          },
          "metadata": {
            "tags": []
          },
          "execution_count": 6
        }
      ]
    },
    {
      "cell_type": "code",
      "metadata": {
        "colab": {
          "base_uri": "https://localhost:8080/",
          "height": 705
        },
        "id": "vNNmwVWsrXRS",
        "outputId": "9499b66c-aef0-408c-e062-97c45b7eff8a"
      },
      "source": [
        "# Let's see how many null elements are contained in the data\n",
        "plt.figure(figsize=(10,10))\n",
        "sns.heatmap(chicago_df.isnull(), cbar = False, cmap = 'YlGnBu')"
      ],
      "execution_count": 7,
      "outputs": [
        {
          "output_type": "execute_result",
          "data": {
            "text/plain": [
              "<matplotlib.axes._subplots.AxesSubplot at 0x7efbfb6e0080>"
            ]
          },
          "metadata": {
            "tags": []
          },
          "execution_count": 7
        },
        {
          "output_type": "display_data",
          "data": {
            "image/png": "[encoded data removed]",
            "text/plain": [
              "<Figure size 720x720 with 1 Axes>"
            ]
          },
          "metadata": {
            "tags": [],
            "needs_background": "light"
          }
        }
      ]
    },
    {
      "cell_type": "code",
      "metadata": {
        "id": "fscZJFfGrXRS"
      },
      "source": [
        "# ID Case Number Date Block IUCR Primary Type Description Location Description Arrest Domestic Beat District Ward Community Area FBI Code X Coordinate Y Coordinate Year Updated On Latitude Longitude Location\n",
        "chicago_df.drop(['Unnamed: 0', 'Case Number', 'Case Number', 'IUCR', 'X Coordinate', 'Y Coordinate','Updated On','Year', 'FBI Code', 'Beat','Ward','Community Area', 'Location', 'District', 'Latitude' , 'Longitude'], inplace=True, axis=1)"
      ],
      "execution_count": 8,
      "outputs": []
    },
    {
      "cell_type": "code",
      "metadata": {
        "colab": {
          "base_uri": "https://localhost:8080/",
          "height": 589
        },
        "id": "PkYclrRGrXRS",
        "outputId": "0259b9c6-d38e-4632-c53a-ff9506b3a052"
      },
      "source": [
        "chicago_df"
      ],
      "execution_count": 9,
      "outputs": [
        {
          "output_type": "execute_result",
          "data": {
            "text/html": [
              "<div>\n",
              "<style scoped>\n",
              "    .dataframe tbody tr th:only-of-type {\n",
              "        vertical-align: middle;\n",
              "    }\n",
              "\n",
              "    .dataframe tbody tr th {\n",
              "        vertical-align: top;\n",
              "    }\n",
              "\n",
              "    .dataframe thead th {\n",
              "        text-align: right;\n",
              "    }\n",
              "</style>\n",
              "<table border=\"1\" class=\"dataframe\">\n",
              "  <thead>\n",
              "    <tr style=\"text-align: right;\">\n",
              "      <th></th>\n",
              "      <th>ID</th>\n",
              "      <th>Date</th>\n",
              "      <th>Block</th>\n",
              "      <th>Primary Type</th>\n",
              "      <th>Description</th>\n",
              "      <th>Location Description</th>\n",
              "      <th>Arrest</th>\n",
              "      <th>Domestic</th>\n",
              "    </tr>\n",
              "  </thead>\n",
              "  <tbody>\n",
              "    <tr>\n",
              "      <th>0</th>\n",
              "      <td>4673626</td>\n",
              "      <td>04/02/2006 01:00:00 PM</td>\n",
              "      <td>055XX N MANGO AVE</td>\n",
              "      <td>OTHER OFFENSE</td>\n",
              "      <td>HARASSMENT BY TELEPHONE</td>\n",
              "      <td>RESIDENCE</td>\n",
              "      <td>False</td>\n",
              "      <td>False</td>\n",
              "    </tr>\n",
              "    <tr>\n",
              "      <th>1</th>\n",
              "      <td>4673627</td>\n",
              "      <td>02/26/2006 01:40:48 PM</td>\n",
              "      <td>065XX S RHODES AVE</td>\n",
              "      <td>NARCOTICS</td>\n",
              "      <td>MANU/DELIVER:CRACK</td>\n",
              "      <td>SIDEWALK</td>\n",
              "      <td>True</td>\n",
              "      <td>False</td>\n",
              "    </tr>\n",
              "    <tr>\n",
              "      <th>2</th>\n",
              "      <td>4673628</td>\n",
              "      <td>01/08/2006 11:16:00 PM</td>\n",
              "      <td>013XX E 69TH ST</td>\n",
              "      <td>ASSAULT</td>\n",
              "      <td>AGGRAVATED: HANDGUN</td>\n",
              "      <td>OTHER</td>\n",
              "      <td>False</td>\n",
              "      <td>False</td>\n",
              "    </tr>\n",
              "    <tr>\n",
              "      <th>3</th>\n",
              "      <td>4673629</td>\n",
              "      <td>04/05/2006 06:45:00 PM</td>\n",
              "      <td>061XX W NEWPORT AVE</td>\n",
              "      <td>BATTERY</td>\n",
              "      <td>SIMPLE</td>\n",
              "      <td>RESIDENCE</td>\n",
              "      <td>False</td>\n",
              "      <td>False</td>\n",
              "    </tr>\n",
              "    <tr>\n",
              "      <th>4</th>\n",
              "      <td>4673630</td>\n",
              "      <td>02/17/2006 09:03:14 PM</td>\n",
              "      <td>037XX W 60TH ST</td>\n",
              "      <td>NARCOTICS</td>\n",
              "      <td>POSS: CANNABIS 30GMS OR LESS</td>\n",
              "      <td>ALLEY</td>\n",
              "      <td>True</td>\n",
              "      <td>False</td>\n",
              "    </tr>\n",
              "    <tr>\n",
              "      <th>...</th>\n",
              "      <td>...</td>\n",
              "      <td>...</td>\n",
              "      <td>...</td>\n",
              "      <td>...</td>\n",
              "      <td>...</td>\n",
              "      <td>...</td>\n",
              "      <td>...</td>\n",
              "      <td>...</td>\n",
              "    </tr>\n",
              "    <tr>\n",
              "      <th>1456709</th>\n",
              "      <td>10508679</td>\n",
              "      <td>05/03/2016 11:33:00 PM</td>\n",
              "      <td>026XX W 23RD PL</td>\n",
              "      <td>BATTERY</td>\n",
              "      <td>DOMESTIC BATTERY SIMPLE</td>\n",
              "      <td>APARTMENT</td>\n",
              "      <td>True</td>\n",
              "      <td>True</td>\n",
              "    </tr>\n",
              "    <tr>\n",
              "      <th>1456710</th>\n",
              "      <td>10508680</td>\n",
              "      <td>05/03/2016 11:30:00 PM</td>\n",
              "      <td>073XX S HARVARD AVE</td>\n",
              "      <td>CRIMINAL DAMAGE</td>\n",
              "      <td>TO PROPERTY</td>\n",
              "      <td>APARTMENT</td>\n",
              "      <td>True</td>\n",
              "      <td>True</td>\n",
              "    </tr>\n",
              "    <tr>\n",
              "      <th>1456711</th>\n",
              "      <td>10508681</td>\n",
              "      <td>05/03/2016 12:15:00 AM</td>\n",
              "      <td>024XX W 63RD ST</td>\n",
              "      <td>BATTERY</td>\n",
              "      <td>AGGRAVATED: HANDGUN</td>\n",
              "      <td>SIDEWALK</td>\n",
              "      <td>False</td>\n",
              "      <td>False</td>\n",
              "    </tr>\n",
              "    <tr>\n",
              "      <th>1456712</th>\n",
              "      <td>10508690</td>\n",
              "      <td>05/03/2016 09:07:00 PM</td>\n",
              "      <td>082XX S EXCHANGE AVE</td>\n",
              "      <td>BATTERY</td>\n",
              "      <td>DOMESTIC BATTERY SIMPLE</td>\n",
              "      <td>SIDEWALK</td>\n",
              "      <td>False</td>\n",
              "      <td>True</td>\n",
              "    </tr>\n",
              "    <tr>\n",
              "      <th>1456713</th>\n",
              "      <td>10508692</td>\n",
              "      <td>05/03/2016 11:38:00 PM</td>\n",
              "      <td>001XX E 75TH ST</td>\n",
              "      <td>OTHER OFFENSE</td>\n",
              "      <td>OTHER WEAPONS VIOLATION</td>\n",
              "      <td>PARKING LOT/GARAGE(NON.RESID.)</td>\n",
              "      <td>True</td>\n",
              "      <td>False</td>\n",
              "    </tr>\n",
              "  </tbody>\n",
              "</table>\n",
              "<p>6017767 rows × 8 columns</p>\n",
              "</div>"
            ],
            "text/plain": [
              "               ID                    Date  ... Arrest Domestic\n",
              "0         4673626  04/02/2006 01:00:00 PM  ...  False    False\n",
              "1         4673627  02/26/2006 01:40:48 PM  ...   True    False\n",
              "2         4673628  01/08/2006 11:16:00 PM  ...  False    False\n",
              "3         4673629  04/05/2006 06:45:00 PM  ...  False    False\n",
              "4         4673630  02/17/2006 09:03:14 PM  ...   True    False\n",
              "...           ...                     ...  ...    ...      ...\n",
              "1456709  10508679  05/03/2016 11:33:00 PM  ...   True     True\n",
              "1456710  10508680  05/03/2016 11:30:00 PM  ...   True     True\n",
              "1456711  10508681  05/03/2016 12:15:00 AM  ...  False    False\n",
              "1456712  10508690  05/03/2016 09:07:00 PM  ...  False     True\n",
              "1456713  10508692  05/03/2016 11:38:00 PM  ...   True    False\n",
              "\n",
              "[6017767 rows x 8 columns]"
            ]
          },
          "metadata": {
            "tags": []
          },
          "execution_count": 9
        }
      ]
    },
    {
      "cell_type": "code",
      "metadata": {
        "id": "wU6VW7yUrXRS"
      },
      "source": [
        "# Assembling a datetime by rearranging the dataframe column \"Date\". \n",
        "\n",
        "chicago_df.Date = pd.to_datetime(chicago_df.Date, format='%m/%d/%Y %I:%M:%S %p')\n"
      ],
      "execution_count": 10,
      "outputs": []
    },
    {
      "cell_type": "code",
      "metadata": {
        "colab": {
          "base_uri": "https://localhost:8080/",
          "height": 589
        },
        "id": "MJTyi9YsrXRS",
        "outputId": "9aa0e6b0-78d3-4d66-8365-dea2d5fed476"
      },
      "source": [
        "chicago_df"
      ],
      "execution_count": 11,
      "outputs": [
        {
          "output_type": "execute_result",
          "data": {
            "text/html": [
              "<div>\n",
              "<style scoped>\n",
              "    .dataframe tbody tr th:only-of-type {\n",
              "        vertical-align: middle;\n",
              "    }\n",
              "\n",
              "    .dataframe tbody tr th {\n",
              "        vertical-align: top;\n",
              "    }\n",
              "\n",
              "    .dataframe thead th {\n",
              "        text-align: right;\n",
              "    }\n",
              "</style>\n",
              "<table border=\"1\" class=\"dataframe\">\n",
              "  <thead>\n",
              "    <tr style=\"text-align: right;\">\n",
              "      <th></th>\n",
              "      <th>ID</th>\n",
              "      <th>Date</th>\n",
              "      <th>Block</th>\n",
              "      <th>Primary Type</th>\n",
              "      <th>Description</th>\n",
              "      <th>Location Description</th>\n",
              "      <th>Arrest</th>\n",
              "      <th>Domestic</th>\n",
              "    </tr>\n",
              "  </thead>\n",
              "  <tbody>\n",
              "    <tr>\n",
              "      <th>0</th>\n",
              "      <td>4673626</td>\n",
              "      <td>2006-04-02 13:00:00</td>\n",
              "      <td>055XX N MANGO AVE</td>\n",
              "      <td>OTHER OFFENSE</td>\n",
              "      <td>HARASSMENT BY TELEPHONE</td>\n",
              "      <td>RESIDENCE</td>\n",
              "      <td>False</td>\n",
              "      <td>False</td>\n",
              "    </tr>\n",
              "    <tr>\n",
              "      <th>1</th>\n",
              "      <td>4673627</td>\n",
              "      <td>2006-02-26 13:40:48</td>\n",
              "      <td>065XX S RHODES AVE</td>\n",
              "      <td>NARCOTICS</td>\n",
              "      <td>MANU/DELIVER:CRACK</td>\n",
              "      <td>SIDEWALK</td>\n",
              "      <td>True</td>\n",
              "      <td>False</td>\n",
              "    </tr>\n",
              "    <tr>\n",
              "      <th>2</th>\n",
              "      <td>4673628</td>\n",
              "      <td>2006-01-08 23:16:00</td>\n",
              "      <td>013XX E 69TH ST</td>\n",
              "      <td>ASSAULT</td>\n",
              "      <td>AGGRAVATED: HANDGUN</td>\n",
              "      <td>OTHER</td>\n",
              "      <td>False</td>\n",
              "      <td>False</td>\n",
              "    </tr>\n",
              "    <tr>\n",
              "      <th>3</th>\n",
              "      <td>4673629</td>\n",
              "      <td>2006-04-05 18:45:00</td>\n",
              "      <td>061XX W NEWPORT AVE</td>\n",
              "      <td>BATTERY</td>\n",
              "      <td>SIMPLE</td>\n",
              "      <td>RESIDENCE</td>\n",
              "      <td>False</td>\n",
              "      <td>False</td>\n",
              "    </tr>\n",
              "    <tr>\n",
              "      <th>4</th>\n",
              "      <td>4673630</td>\n",
              "      <td>2006-02-17 21:03:14</td>\n",
              "      <td>037XX W 60TH ST</td>\n",
              "      <td>NARCOTICS</td>\n",
              "      <td>POSS: CANNABIS 30GMS OR LESS</td>\n",
              "      <td>ALLEY</td>\n",
              "      <td>True</td>\n",
              "      <td>False</td>\n",
              "    </tr>\n",
              "    <tr>\n",
              "      <th>...</th>\n",
              "      <td>...</td>\n",
              "      <td>...</td>\n",
              "      <td>...</td>\n",
              "      <td>...</td>\n",
              "      <td>...</td>\n",
              "      <td>...</td>\n",
              "      <td>...</td>\n",
              "      <td>...</td>\n",
              "    </tr>\n",
              "    <tr>\n",
              "      <th>1456709</th>\n",
              "      <td>10508679</td>\n",
              "      <td>2016-05-03 23:33:00</td>\n",
              "      <td>026XX W 23RD PL</td>\n",
              "      <td>BATTERY</td>\n",
              "      <td>DOMESTIC BATTERY SIMPLE</td>\n",
              "      <td>APARTMENT</td>\n",
              "      <td>True</td>\n",
              "      <td>True</td>\n",
              "    </tr>\n",
              "    <tr>\n",
              "      <th>1456710</th>\n",
              "      <td>10508680</td>\n",
              "      <td>2016-05-03 23:30:00</td>\n",
              "      <td>073XX S HARVARD AVE</td>\n",
              "      <td>CRIMINAL DAMAGE</td>\n",
              "      <td>TO PROPERTY</td>\n",
              "      <td>APARTMENT</td>\n",
              "      <td>True</td>\n",
              "      <td>True</td>\n",
              "    </tr>\n",
              "    <tr>\n",
              "      <th>1456711</th>\n",
              "      <td>10508681</td>\n",
              "      <td>2016-05-03 00:15:00</td>\n",
              "      <td>024XX W 63RD ST</td>\n",
              "      <td>BATTERY</td>\n",
              "      <td>AGGRAVATED: HANDGUN</td>\n",
              "      <td>SIDEWALK</td>\n",
              "      <td>False</td>\n",
              "      <td>False</td>\n",
              "    </tr>\n",
              "    <tr>\n",
              "      <th>1456712</th>\n",
              "      <td>10508690</td>\n",
              "      <td>2016-05-03 21:07:00</td>\n",
              "      <td>082XX S EXCHANGE AVE</td>\n",
              "      <td>BATTERY</td>\n",
              "      <td>DOMESTIC BATTERY SIMPLE</td>\n",
              "      <td>SIDEWALK</td>\n",
              "      <td>False</td>\n",
              "      <td>True</td>\n",
              "    </tr>\n",
              "    <tr>\n",
              "      <th>1456713</th>\n",
              "      <td>10508692</td>\n",
              "      <td>2016-05-03 23:38:00</td>\n",
              "      <td>001XX E 75TH ST</td>\n",
              "      <td>OTHER OFFENSE</td>\n",
              "      <td>OTHER WEAPONS VIOLATION</td>\n",
              "      <td>PARKING LOT/GARAGE(NON.RESID.)</td>\n",
              "      <td>True</td>\n",
              "      <td>False</td>\n",
              "    </tr>\n",
              "  </tbody>\n",
              "</table>\n",
              "<p>6017767 rows × 8 columns</p>\n",
              "</div>"
            ],
            "text/plain": [
              "               ID                Date  ... Arrest Domestic\n",
              "0         4673626 2006-04-02 13:00:00  ...  False    False\n",
              "1         4673627 2006-02-26 13:40:48  ...   True    False\n",
              "2         4673628 2006-01-08 23:16:00  ...  False    False\n",
              "3         4673629 2006-04-05 18:45:00  ...  False    False\n",
              "4         4673630 2006-02-17 21:03:14  ...   True    False\n",
              "...           ...                 ...  ...    ...      ...\n",
              "1456709  10508679 2016-05-03 23:33:00  ...   True     True\n",
              "1456710  10508680 2016-05-03 23:30:00  ...   True     True\n",
              "1456711  10508681 2016-05-03 00:15:00  ...  False    False\n",
              "1456712  10508690 2016-05-03 21:07:00  ...  False     True\n",
              "1456713  10508692 2016-05-03 23:38:00  ...   True    False\n",
              "\n",
              "[6017767 rows x 8 columns]"
            ]
          },
          "metadata": {
            "tags": []
          },
          "execution_count": 11
        }
      ]
    },
    {
      "cell_type": "code",
      "metadata": {
        "id": "VCKCf1JerXRS"
      },
      "source": [
        "# setting the index to be the date \n",
        "chicago_df.index = pd.DatetimeIndex(chicago_df.Date)\n"
      ],
      "execution_count": 12,
      "outputs": []
    },
    {
      "cell_type": "code",
      "metadata": {
        "colab": {
          "base_uri": "https://localhost:8080/",
          "height": 619
        },
        "id": "RKR0hM_4rXRS",
        "outputId": "403eb2b9-40f6-4aee-ef4d-38ce3b4bc6bf"
      },
      "source": [
        "chicago_df"
      ],
      "execution_count": 13,
      "outputs": [
        {
          "output_type": "execute_result",
          "data": {
            "text/html": [
              "<div>\n",
              "<style scoped>\n",
              "    .dataframe tbody tr th:only-of-type {\n",
              "        vertical-align: middle;\n",
              "    }\n",
              "\n",
              "    .dataframe tbody tr th {\n",
              "        vertical-align: top;\n",
              "    }\n",
              "\n",
              "    .dataframe thead th {\n",
              "        text-align: right;\n",
              "    }\n",
              "</style>\n",
              "<table border=\"1\" class=\"dataframe\">\n",
              "  <thead>\n",
              "    <tr style=\"text-align: right;\">\n",
              "      <th></th>\n",
              "      <th>ID</th>\n",
              "      <th>Date</th>\n",
              "      <th>Block</th>\n",
              "      <th>Primary Type</th>\n",
              "      <th>Description</th>\n",
              "      <th>Location Description</th>\n",
              "      <th>Arrest</th>\n",
              "      <th>Domestic</th>\n",
              "    </tr>\n",
              "    <tr>\n",
              "      <th>Date</th>\n",
              "      <th></th>\n",
              "      <th></th>\n",
              "      <th></th>\n",
              "      <th></th>\n",
              "      <th></th>\n",
              "      <th></th>\n",
              "      <th></th>\n",
              "      <th></th>\n",
              "    </tr>\n",
              "  </thead>\n",
              "  <tbody>\n",
              "    <tr>\n",
              "      <th>2006-04-02 13:00:00</th>\n",
              "      <td>4673626</td>\n",
              "      <td>2006-04-02 13:00:00</td>\n",
              "      <td>055XX N MANGO AVE</td>\n",
              "      <td>OTHER OFFENSE</td>\n",
              "      <td>HARASSMENT BY TELEPHONE</td>\n",
              "      <td>RESIDENCE</td>\n",
              "      <td>False</td>\n",
              "      <td>False</td>\n",
              "    </tr>\n",
              "    <tr>\n",
              "      <th>2006-02-26 13:40:48</th>\n",
              "      <td>4673627</td>\n",
              "      <td>2006-02-26 13:40:48</td>\n",
              "      <td>065XX S RHODES AVE</td>\n",
              "      <td>NARCOTICS</td>\n",
              "      <td>MANU/DELIVER:CRACK</td>\n",
              "      <td>SIDEWALK</td>\n",
              "      <td>True</td>\n",
              "      <td>False</td>\n",
              "    </tr>\n",
              "    <tr>\n",
              "      <th>2006-01-08 23:16:00</th>\n",
              "      <td>4673628</td>\n",
              "      <td>2006-01-08 23:16:00</td>\n",
              "      <td>013XX E 69TH ST</td>\n",
              "      <td>ASSAULT</td>\n",
              "      <td>AGGRAVATED: HANDGUN</td>\n",
              "      <td>OTHER</td>\n",
              "      <td>False</td>\n",
              "      <td>False</td>\n",
              "    </tr>\n",
              "    <tr>\n",
              "      <th>2006-04-05 18:45:00</th>\n",
              "      <td>4673629</td>\n",
              "      <td>2006-04-05 18:45:00</td>\n",
              "      <td>061XX W NEWPORT AVE</td>\n",
              "      <td>BATTERY</td>\n",
              "      <td>SIMPLE</td>\n",
              "      <td>RESIDENCE</td>\n",
              "      <td>False</td>\n",
              "      <td>False</td>\n",
              "    </tr>\n",
              "    <tr>\n",
              "      <th>2006-02-17 21:03:14</th>\n",
              "      <td>4673630</td>\n",
              "      <td>2006-02-17 21:03:14</td>\n",
              "      <td>037XX W 60TH ST</td>\n",
              "      <td>NARCOTICS</td>\n",
              "      <td>POSS: CANNABIS 30GMS OR LESS</td>\n",
              "      <td>ALLEY</td>\n",
              "      <td>True</td>\n",
              "      <td>False</td>\n",
              "    </tr>\n",
              "    <tr>\n",
              "      <th>...</th>\n",
              "      <td>...</td>\n",
              "      <td>...</td>\n",
              "      <td>...</td>\n",
              "      <td>...</td>\n",
              "      <td>...</td>\n",
              "      <td>...</td>\n",
              "      <td>...</td>\n",
              "      <td>...</td>\n",
              "    </tr>\n",
              "    <tr>\n",
              "      <th>2016-05-03 23:33:00</th>\n",
              "      <td>10508679</td>\n",
              "      <td>2016-05-03 23:33:00</td>\n",
              "      <td>026XX W 23RD PL</td>\n",
              "      <td>BATTERY</td>\n",
              "      <td>DOMESTIC BATTERY SIMPLE</td>\n",
              "      <td>APARTMENT</td>\n",
              "      <td>True</td>\n",
              "      <td>True</td>\n",
              "    </tr>\n",
              "    <tr>\n",
              "      <th>2016-05-03 23:30:00</th>\n",
              "      <td>10508680</td>\n",
              "      <td>2016-05-03 23:30:00</td>\n",
              "      <td>073XX S HARVARD AVE</td>\n",
              "      <td>CRIMINAL DAMAGE</td>\n",
              "      <td>TO PROPERTY</td>\n",
              "      <td>APARTMENT</td>\n",
              "      <td>True</td>\n",
              "      <td>True</td>\n",
              "    </tr>\n",
              "    <tr>\n",
              "      <th>2016-05-03 00:15:00</th>\n",
              "      <td>10508681</td>\n",
              "      <td>2016-05-03 00:15:00</td>\n",
              "      <td>024XX W 63RD ST</td>\n",
              "      <td>BATTERY</td>\n",
              "      <td>AGGRAVATED: HANDGUN</td>\n",
              "      <td>SIDEWALK</td>\n",
              "      <td>False</td>\n",
              "      <td>False</td>\n",
              "    </tr>\n",
              "    <tr>\n",
              "      <th>2016-05-03 21:07:00</th>\n",
              "      <td>10508690</td>\n",
              "      <td>2016-05-03 21:07:00</td>\n",
              "      <td>082XX S EXCHANGE AVE</td>\n",
              "      <td>BATTERY</td>\n",
              "      <td>DOMESTIC BATTERY SIMPLE</td>\n",
              "      <td>SIDEWALK</td>\n",
              "      <td>False</td>\n",
              "      <td>True</td>\n",
              "    </tr>\n",
              "    <tr>\n",
              "      <th>2016-05-03 23:38:00</th>\n",
              "      <td>10508692</td>\n",
              "      <td>2016-05-03 23:38:00</td>\n",
              "      <td>001XX E 75TH ST</td>\n",
              "      <td>OTHER OFFENSE</td>\n",
              "      <td>OTHER WEAPONS VIOLATION</td>\n",
              "      <td>PARKING LOT/GARAGE(NON.RESID.)</td>\n",
              "      <td>True</td>\n",
              "      <td>False</td>\n",
              "    </tr>\n",
              "  </tbody>\n",
              "</table>\n",
              "<p>6017767 rows × 8 columns</p>\n",
              "</div>"
            ],
            "text/plain": [
              "                           ID                Date  ... Arrest Domestic\n",
              "Date                                               ...                \n",
              "2006-04-02 13:00:00   4673626 2006-04-02 13:00:00  ...  False    False\n",
              "2006-02-26 13:40:48   4673627 2006-02-26 13:40:48  ...   True    False\n",
              "2006-01-08 23:16:00   4673628 2006-01-08 23:16:00  ...  False    False\n",
              "2006-04-05 18:45:00   4673629 2006-04-05 18:45:00  ...  False    False\n",
              "2006-02-17 21:03:14   4673630 2006-02-17 21:03:14  ...   True    False\n",
              "...                       ...                 ...  ...    ...      ...\n",
              "2016-05-03 23:33:00  10508679 2016-05-03 23:33:00  ...   True     True\n",
              "2016-05-03 23:30:00  10508680 2016-05-03 23:30:00  ...   True     True\n",
              "2016-05-03 00:15:00  10508681 2016-05-03 00:15:00  ...  False    False\n",
              "2016-05-03 21:07:00  10508690 2016-05-03 21:07:00  ...  False     True\n",
              "2016-05-03 23:38:00  10508692 2016-05-03 23:38:00  ...   True    False\n",
              "\n",
              "[6017767 rows x 8 columns]"
            ]
          },
          "metadata": {
            "tags": []
          },
          "execution_count": 13
        }
      ]
    },
    {
      "cell_type": "code",
      "metadata": {
        "colab": {
          "base_uri": "https://localhost:8080/"
        },
        "id": "pSsOS3b5rXRS",
        "outputId": "bae976f7-4711-48a0-8cee-e9b03fb14800"
      },
      "source": [
        "chicago_df['Primary Type'].value_counts()"
      ],
      "execution_count": 14,
      "outputs": [
        {
          "output_type": "execute_result",
          "data": {
            "text/plain": [
              "THEFT                                1245111\n",
              "BATTERY                              1079178\n",
              "CRIMINAL DAMAGE                       702702\n",
              "NARCOTICS                             674831\n",
              "BURGLARY                              369056\n",
              "OTHER OFFENSE                         368169\n",
              "ASSAULT                               360244\n",
              "MOTOR VEHICLE THEFT                   271624\n",
              "ROBBERY                               229467\n",
              "DECEPTIVE PRACTICE                    225180\n",
              "CRIMINAL TRESPASS                     171596\n",
              "PROSTITUTION                           60735\n",
              "WEAPONS VIOLATION                      60335\n",
              "PUBLIC PEACE VIOLATION                 48403\n",
              "OFFENSE INVOLVING CHILDREN             40260\n",
              "CRIM SEXUAL ASSAULT                    22789\n",
              "SEX OFFENSE                            20172\n",
              "GAMBLING                               14755\n",
              "INTERFERENCE WITH PUBLIC OFFICER       14009\n",
              "LIQUOR LAW VIOLATION                   12129\n",
              "ARSON                                   9269\n",
              "HOMICIDE                                5879\n",
              "KIDNAPPING                              4734\n",
              "INTIMIDATION                            3324\n",
              "STALKING                                2866\n",
              "OBSCENITY                                422\n",
              "PUBLIC INDECENCY                         134\n",
              "OTHER NARCOTIC VIOLATION                 122\n",
              "NON-CRIMINAL                              96\n",
              "CONCEALED CARRY LICENSE VIOLATION         90\n",
              "NON - CRIMINAL                            38\n",
              "HUMAN TRAFFICKING                         28\n",
              "RITUALISM                                 16\n",
              "NON-CRIMINAL (SUBJECT SPECIFIED)           4\n",
              "Name: Primary Type, dtype: int64"
            ]
          },
          "metadata": {
            "tags": []
          },
          "execution_count": 14
        }
      ]
    },
    {
      "cell_type": "code",
      "metadata": {
        "colab": {
          "base_uri": "https://localhost:8080/"
        },
        "id": "ZXYEIxYRrXRS",
        "outputId": "55750c7d-1e2e-4191-9054-a41f682ac205"
      },
      "source": [
        "chicago_df['Primary Type'].value_counts().iloc[:15]"
      ],
      "execution_count": 15,
      "outputs": [
        {
          "output_type": "execute_result",
          "data": {
            "text/plain": [
              "THEFT                         1245111\n",
              "BATTERY                       1079178\n",
              "CRIMINAL DAMAGE                702702\n",
              "NARCOTICS                      674831\n",
              "BURGLARY                       369056\n",
              "OTHER OFFENSE                  368169\n",
              "ASSAULT                        360244\n",
              "MOTOR VEHICLE THEFT            271624\n",
              "ROBBERY                        229467\n",
              "DECEPTIVE PRACTICE             225180\n",
              "CRIMINAL TRESPASS              171596\n",
              "PROSTITUTION                    60735\n",
              "WEAPONS VIOLATION               60335\n",
              "PUBLIC PEACE VIOLATION          48403\n",
              "OFFENSE INVOLVING CHILDREN      40260\n",
              "Name: Primary Type, dtype: int64"
            ]
          },
          "metadata": {
            "tags": []
          },
          "execution_count": 15
        }
      ]
    },
    {
      "cell_type": "code",
      "metadata": {
        "colab": {
          "base_uri": "https://localhost:8080/"
        },
        "id": "okH1KXQ4rXRS",
        "outputId": "219a9799-5b0b-4e1e-ebd2-9e0279bcf883"
      },
      "source": [
        "chicago_df['Primary Type'].value_counts().iloc[:15].index"
      ],
      "execution_count": 16,
      "outputs": [
        {
          "output_type": "execute_result",
          "data": {
            "text/plain": [
              "Index(['THEFT', 'BATTERY', 'CRIMINAL DAMAGE', 'NARCOTICS', 'BURGLARY',\n",
              "       'OTHER OFFENSE', 'ASSAULT', 'MOTOR VEHICLE THEFT', 'ROBBERY',\n",
              "       'DECEPTIVE PRACTICE', 'CRIMINAL TRESPASS', 'PROSTITUTION',\n",
              "       'WEAPONS VIOLATION', 'PUBLIC PEACE VIOLATION',\n",
              "       'OFFENSE INVOLVING CHILDREN'],\n",
              "      dtype='object')"
            ]
          },
          "metadata": {
            "tags": []
          },
          "execution_count": 16
        }
      ]
    },
    {
      "cell_type": "code",
      "metadata": {
        "colab": {
          "base_uri": "https://localhost:8080/",
          "height": 623
        },
        "id": "0y5ndEarrXRS",
        "outputId": "77f625fb-6d8a-4eac-a4c7-c6b9f5eee8ff"
      },
      "source": [
        "plt.figure(figsize = (15, 10))\n",
        "sns.countplot(y= 'Primary Type', data = chicago_df, order = chicago_df['Primary Type'].value_counts().iloc[:15].index)"
      ],
      "execution_count": 17,
      "outputs": [
        {
          "output_type": "execute_result",
          "data": {
            "text/plain": [
              "<matplotlib.axes._subplots.AxesSubplot at 0x7efbf8dca7f0>"
            ]
          },
          "metadata": {
            "tags": []
          },
          "execution_count": 17
        },
        {
          "output_type": "display_data",
          "data": {
            "image/png": "[encoded data removed]",
            "text/plain": [
              "<Figure size 1080x720 with 1 Axes>"
            ]
          },
          "metadata": {
            "tags": [],
            "needs_background": "light"
          }
        }
      ]
    },
    {
      "cell_type": "code",
      "metadata": {
        "colab": {
          "base_uri": "https://localhost:8080/",
          "height": 623
        },
        "id": "513UyBn2rXRT",
        "outputId": "6482b07a-16e9-48d7-8149-b493d9e04b17"
      },
      "source": [
        "plt.figure(figsize = (15, 10))\n",
        "sns.countplot(y= 'Location Description', data = chicago_df, order = chicago_df['Location Description'].value_counts().iloc[:15].index)"
      ],
      "execution_count": 18,
      "outputs": [
        {
          "output_type": "execute_result",
          "data": {
            "text/plain": [
              "<matplotlib.axes._subplots.AxesSubplot at 0x7efbf87efef0>"
            ]
          },
          "metadata": {
            "tags": []
          },
          "execution_count": 18
        },
        {
          "output_type": "display_data",
          "data": {
            "image/png": "[encoded data removed]",
            "text/plain": [
              "<Figure size 1080x720 with 1 Axes>"
            ]
          },
          "metadata": {
            "tags": [],
            "needs_background": "light"
          }
        }
      ]
    },
    {
      "cell_type": "code",
      "metadata": {
        "colab": {
          "base_uri": "https://localhost:8080/"
        },
        "id": "Pm9Gm-4brXRT",
        "outputId": "064c7c8c-f054-4e4b-890c-2666e05d7b91"
      },
      "source": [
        "chicago_df.resample('Y').size()"
      ],
      "execution_count": 19,
      "outputs": [
        {
          "output_type": "execute_result",
          "data": {
            "text/plain": [
              "Date\n",
              "2005-12-31    455811\n",
              "2006-12-31    794684\n",
              "2007-12-31    621848\n",
              "2008-12-31    852053\n",
              "2009-12-31    783900\n",
              "2010-12-31    700691\n",
              "2011-12-31    352066\n",
              "2012-12-31    335670\n",
              "2013-12-31    306703\n",
              "2014-12-31    274527\n",
              "2015-12-31    262995\n",
              "2016-12-31    265462\n",
              "2017-12-31     11357\n",
              "Freq: A-DEC, dtype: int64"
            ]
          },
          "metadata": {
            "tags": []
          },
          "execution_count": 19
        }
      ]
    },
    {
      "cell_type": "code",
      "metadata": {
        "colab": {
          "base_uri": "https://localhost:8080/",
          "height": 313
        },
        "id": "P69UOPu_rXRT",
        "outputId": "4ead4db9-4aac-44ef-8b2b-0f78d0964e58"
      },
      "source": [
        "# Resample is a Convenience method for frequency conversion and resampling of time series.\n",
        "\n",
        "plt.plot(chicago_df.resample('Y').size())\n",
        "plt.title('Crimes Count Per Year')\n",
        "plt.xlabel('Years')\n",
        "plt.ylabel('Number of Crimes')"
      ],
      "execution_count": 22,
      "outputs": [
        {
          "output_type": "execute_result",
          "data": {
            "text/plain": [
              "Text(0, 0.5, 'Number of Crimes')"
            ]
          },
          "metadata": {
            "tags": []
          },
          "execution_count": 22
        },
        {
          "output_type": "display_data",
          "data": {
            "image/png": "[encoded data removed]",
            "text/plain": [
              "<Figure size 432x288 with 1 Axes>"
            ]
          },
          "metadata": {
            "tags": [],
            "needs_background": "light"
          }
        }
      ]
    },
    {
      "cell_type": "code",
      "metadata": {
        "colab": {
          "base_uri": "https://localhost:8080/"
        },
        "id": "l5BJ9ah5rXRT",
        "outputId": "099bcf4b-3001-4899-8e54-8cdebf1b3151"
      },
      "source": [
        "chicago_df.resample('M').size()"
      ],
      "execution_count": 21,
      "outputs": [
        {
          "output_type": "execute_result",
          "data": {
            "text/plain": [
              "Date\n",
              "2005-01-31    33983\n",
              "2005-02-28    32042\n",
              "2005-03-31    36970\n",
              "2005-04-30    38963\n",
              "2005-05-31    40572\n",
              "              ...  \n",
              "2016-09-30    23235\n",
              "2016-10-31    23314\n",
              "2016-11-30    21140\n",
              "2016-12-31    19580\n",
              "2017-01-31    11357\n",
              "Freq: M, Length: 145, dtype: int64"
            ]
          },
          "metadata": {
            "tags": []
          },
          "execution_count": 21
        }
      ]
    },
    {
      "cell_type": "code",
      "metadata": {
        "colab": {
          "base_uri": "https://localhost:8080/",
          "height": 313
        },
        "id": "Ug9OmdFHrXRT",
        "outputId": "96e20fd6-ba72-444d-aed4-c49f4ecb5b10"
      },
      "source": [
        "# Resample is a Convenience method for frequency conversion and resampling of time series.\n",
        "\n",
        "plt.plot(chicago_df.resample('M').size())\n",
        "plt.title('Crimes Count Per Month')\n",
        "plt.xlabel('Months')\n",
        "plt.ylabel('Number of Crimes')"
      ],
      "execution_count": 23,
      "outputs": [
        {
          "output_type": "execute_result",
          "data": {
            "text/plain": [
              "Text(0, 0.5, 'Number of Crimes')"
            ]
          },
          "metadata": {
            "tags": []
          },
          "execution_count": 23
        },
        {
          "output_type": "display_data",
          "data": {
            "image/png": "[encoded data removed]",
            "text/plain": [
              "<Figure size 432x288 with 1 Axes>"
            ]
          },
          "metadata": {
            "tags": [],
            "needs_background": "light"
          }
        }
      ]
    },
    {
      "cell_type": "code",
      "metadata": {
        "colab": {
          "base_uri": "https://localhost:8080/"
        },
        "id": "zPT2jHK5rXRT",
        "outputId": "3f5cb7a4-1ef5-474b-9ab5-e710b1bfb4bc"
      },
      "source": [
        "chicago_df.resample('Q').size()"
      ],
      "execution_count": 24,
      "outputs": [
        {
          "output_type": "execute_result",
          "data": {
            "text/plain": [
              "Date\n",
              "2005-03-31    102995\n",
              "2005-06-30    119769\n",
              "2005-09-30    123550\n",
              "2005-12-31    109497\n",
              "2006-03-31    115389\n",
              "2006-06-30    225489\n",
              "2006-09-30    238423\n",
              "2006-12-31    215383\n",
              "2007-03-31    192791\n",
              "2007-06-30    204361\n",
              "2007-09-30    119086\n",
              "2007-12-31    105610\n",
              "2008-03-31    191523\n",
              "2008-06-30    222331\n",
              "2008-09-30    236695\n",
              "2008-12-31    201504\n",
              "2009-03-31    184055\n",
              "2009-06-30    203916\n",
              "2009-09-30    210446\n",
              "2009-12-31    185483\n",
              "2010-03-31    171848\n",
              "2010-06-30    194453\n",
              "2010-09-30    197116\n",
              "2010-12-31    137274\n",
              "2011-03-31     78167\n",
              "2011-06-30     93064\n",
              "2011-09-30     95835\n",
              "2011-12-31     85000\n",
              "2012-03-31     78574\n",
              "2012-06-30     88283\n",
              "2012-09-30     89685\n",
              "2012-12-31     79128\n",
              "2013-03-31     71651\n",
              "2013-06-30     80776\n",
              "2013-09-30     83510\n",
              "2013-12-31     70766\n",
              "2014-03-31     59964\n",
              "2014-06-30     72991\n",
              "2014-09-30     76090\n",
              "2014-12-31     65482\n",
              "2015-03-31     58503\n",
              "2015-06-30     68239\n",
              "2015-09-30     71782\n",
              "2015-12-31     64471\n",
              "2016-03-31     60843\n",
              "2016-06-30     68085\n",
              "2016-09-30     72500\n",
              "2016-12-31     64034\n",
              "2017-03-31     11357\n",
              "Freq: Q-DEC, dtype: int64"
            ]
          },
          "metadata": {
            "tags": []
          },
          "execution_count": 24
        }
      ]
    },
    {
      "cell_type": "code",
      "metadata": {
        "colab": {
          "base_uri": "https://localhost:8080/",
          "height": 313
        },
        "id": "pUS3oJlErXRT",
        "outputId": "ec9004e7-658a-45a6-80dd-f66606ce24cf"
      },
      "source": [
        "# Resample is a Convenience method for frequency conversion and resampling of time series.\n",
        "\n",
        "plt.plot(chicago_df.resample('Q').size())\n",
        "plt.title('Crimes Count Per Quarter')\n",
        "plt.xlabel('Quarters')\n",
        "plt.ylabel('Number of Crimes')"
      ],
      "execution_count": 25,
      "outputs": [
        {
          "output_type": "execute_result",
          "data": {
            "text/plain": [
              "Text(0, 0.5, 'Number of Crimes')"
            ]
          },
          "metadata": {
            "tags": []
          },
          "execution_count": 25
        },
        {
          "output_type": "display_data",
          "data": {
            "image/png": "[encoded data removed]",
            "text/plain": [
              "<Figure size 432x288 with 1 Axes>"
            ]
          },
          "metadata": {
            "tags": [],
            "needs_background": "light"
          }
        }
      ]
    },
    {
      "cell_type": "markdown",
      "metadata": {
        "id": "it2oJXUvrXRT"
      },
      "source": [
        "# STEP #3: PREPARING THE DATA"
      ]
    },
    {
      "cell_type": "code",
      "metadata": {
        "id": "fFTmmXw-rXRT"
      },
      "source": [
        "chicago_prophet = chicago_df.resample('M').size().reset_index()"
      ],
      "execution_count": 26,
      "outputs": []
    },
    {
      "cell_type": "code",
      "metadata": {
        "colab": {
          "base_uri": "https://localhost:8080/",
          "height": 415
        },
        "id": "Q_D0x5_7rXRT",
        "outputId": "d33ab994-d8ef-457e-dc68-f63ed4745a0d"
      },
      "source": [
        "chicago_prophet"
      ],
      "execution_count": 27,
      "outputs": [
        {
          "output_type": "execute_result",
          "data": {
            "text/html": [
              "<div>\n",
              "<style scoped>\n",
              "    .dataframe tbody tr th:only-of-type {\n",
              "        vertical-align: middle;\n",
              "    }\n",
              "\n",
              "    .dataframe tbody tr th {\n",
              "        vertical-align: top;\n",
              "    }\n",
              "\n",
              "    .dataframe thead th {\n",
              "        text-align: right;\n",
              "    }\n",
              "</style>\n",
              "<table border=\"1\" class=\"dataframe\">\n",
              "  <thead>\n",
              "    <tr style=\"text-align: right;\">\n",
              "      <th></th>\n",
              "      <th>Date</th>\n",
              "      <th>0</th>\n",
              "    </tr>\n",
              "  </thead>\n",
              "  <tbody>\n",
              "    <tr>\n",
              "      <th>0</th>\n",
              "      <td>2005-01-31</td>\n",
              "      <td>33983</td>\n",
              "    </tr>\n",
              "    <tr>\n",
              "      <th>1</th>\n",
              "      <td>2005-02-28</td>\n",
              "      <td>32042</td>\n",
              "    </tr>\n",
              "    <tr>\n",
              "      <th>2</th>\n",
              "      <td>2005-03-31</td>\n",
              "      <td>36970</td>\n",
              "    </tr>\n",
              "    <tr>\n",
              "      <th>3</th>\n",
              "      <td>2005-04-30</td>\n",
              "      <td>38963</td>\n",
              "    </tr>\n",
              "    <tr>\n",
              "      <th>4</th>\n",
              "      <td>2005-05-31</td>\n",
              "      <td>40572</td>\n",
              "    </tr>\n",
              "    <tr>\n",
              "      <th>...</th>\n",
              "      <td>...</td>\n",
              "      <td>...</td>\n",
              "    </tr>\n",
              "    <tr>\n",
              "      <th>140</th>\n",
              "      <td>2016-09-30</td>\n",
              "      <td>23235</td>\n",
              "    </tr>\n",
              "    <tr>\n",
              "      <th>141</th>\n",
              "      <td>2016-10-31</td>\n",
              "      <td>23314</td>\n",
              "    </tr>\n",
              "    <tr>\n",
              "      <th>142</th>\n",
              "      <td>2016-11-30</td>\n",
              "      <td>21140</td>\n",
              "    </tr>\n",
              "    <tr>\n",
              "      <th>143</th>\n",
              "      <td>2016-12-31</td>\n",
              "      <td>19580</td>\n",
              "    </tr>\n",
              "    <tr>\n",
              "      <th>144</th>\n",
              "      <td>2017-01-31</td>\n",
              "      <td>11357</td>\n",
              "    </tr>\n",
              "  </tbody>\n",
              "</table>\n",
              "<p>145 rows × 2 columns</p>\n",
              "</div>"
            ],
            "text/plain": [
              "          Date      0\n",
              "0   2005-01-31  33983\n",
              "1   2005-02-28  32042\n",
              "2   2005-03-31  36970\n",
              "3   2005-04-30  38963\n",
              "4   2005-05-31  40572\n",
              "..         ...    ...\n",
              "140 2016-09-30  23235\n",
              "141 2016-10-31  23314\n",
              "142 2016-11-30  21140\n",
              "143 2016-12-31  19580\n",
              "144 2017-01-31  11357\n",
              "\n",
              "[145 rows x 2 columns]"
            ]
          },
          "metadata": {
            "tags": []
          },
          "execution_count": 27
        }
      ]
    },
    {
      "cell_type": "code",
      "metadata": {
        "id": "LAhs5nGarXRT"
      },
      "source": [
        "chicago_prophet.columns = ['Date', 'Crime Count']"
      ],
      "execution_count": 28,
      "outputs": []
    },
    {
      "cell_type": "code",
      "metadata": {
        "colab": {
          "base_uri": "https://localhost:8080/",
          "height": 415
        },
        "id": "0CK-nEgirXRT",
        "outputId": "95a4c034-2faf-42ad-908a-bf43388d1728"
      },
      "source": [
        "chicago_prophet"
      ],
      "execution_count": 29,
      "outputs": [
        {
          "output_type": "execute_result",
          "data": {
            "text/html": [
              "<div>\n",
              "<style scoped>\n",
              "    .dataframe tbody tr th:only-of-type {\n",
              "        vertical-align: middle;\n",
              "    }\n",
              "\n",
              "    .dataframe tbody tr th {\n",
              "        vertical-align: top;\n",
              "    }\n",
              "\n",
              "    .dataframe thead th {\n",
              "        text-align: right;\n",
              "    }\n",
              "</style>\n",
              "<table border=\"1\" class=\"dataframe\">\n",
              "  <thead>\n",
              "    <tr style=\"text-align: right;\">\n",
              "      <th></th>\n",
              "      <th>Date</th>\n",
              "      <th>Crime Count</th>\n",
              "    </tr>\n",
              "  </thead>\n",
              "  <tbody>\n",
              "    <tr>\n",
              "      <th>0</th>\n",
              "      <td>2005-01-31</td>\n",
              "      <td>33983</td>\n",
              "    </tr>\n",
              "    <tr>\n",
              "      <th>1</th>\n",
              "      <td>2005-02-28</td>\n",
              "      <td>32042</td>\n",
              "    </tr>\n",
              "    <tr>\n",
              "      <th>2</th>\n",
              "      <td>2005-03-31</td>\n",
              "      <td>36970</td>\n",
              "    </tr>\n",
              "    <tr>\n",
              "      <th>3</th>\n",
              "      <td>2005-04-30</td>\n",
              "      <td>38963</td>\n",
              "    </tr>\n",
              "    <tr>\n",
              "      <th>4</th>\n",
              "      <td>2005-05-31</td>\n",
              "      <td>40572</td>\n",
              "    </tr>\n",
              "    <tr>\n",
              "      <th>...</th>\n",
              "      <td>...</td>\n",
              "      <td>...</td>\n",
              "    </tr>\n",
              "    <tr>\n",
              "      <th>140</th>\n",
              "      <td>2016-09-30</td>\n",
              "      <td>23235</td>\n",
              "    </tr>\n",
              "    <tr>\n",
              "      <th>141</th>\n",
              "      <td>2016-10-31</td>\n",
              "      <td>23314</td>\n",
              "    </tr>\n",
              "    <tr>\n",
              "      <th>142</th>\n",
              "      <td>2016-11-30</td>\n",
              "      <td>21140</td>\n",
              "    </tr>\n",
              "    <tr>\n",
              "      <th>143</th>\n",
              "      <td>2016-12-31</td>\n",
              "      <td>19580</td>\n",
              "    </tr>\n",
              "    <tr>\n",
              "      <th>144</th>\n",
              "      <td>2017-01-31</td>\n",
              "      <td>11357</td>\n",
              "    </tr>\n",
              "  </tbody>\n",
              "</table>\n",
              "<p>145 rows × 2 columns</p>\n",
              "</div>"
            ],
            "text/plain": [
              "          Date  Crime Count\n",
              "0   2005-01-31        33983\n",
              "1   2005-02-28        32042\n",
              "2   2005-03-31        36970\n",
              "3   2005-04-30        38963\n",
              "4   2005-05-31        40572\n",
              "..         ...          ...\n",
              "140 2016-09-30        23235\n",
              "141 2016-10-31        23314\n",
              "142 2016-11-30        21140\n",
              "143 2016-12-31        19580\n",
              "144 2017-01-31        11357\n",
              "\n",
              "[145 rows x 2 columns]"
            ]
          },
          "metadata": {
            "tags": []
          },
          "execution_count": 29
        }
      ]
    },
    {
      "cell_type": "code",
      "metadata": {
        "id": "BlMsal9GrXRT"
      },
      "source": [
        "chicago_prophet_df = pd.DataFrame(chicago_prophet)"
      ],
      "execution_count": 30,
      "outputs": []
    },
    {
      "cell_type": "code",
      "metadata": {
        "colab": {
          "base_uri": "https://localhost:8080/",
          "height": 415
        },
        "id": "-YGehRerrXRT",
        "outputId": "b3a5a707-d78a-4a8e-e0f7-e5b4f929b9cd"
      },
      "source": [
        "chicago_prophet_df"
      ],
      "execution_count": 31,
      "outputs": [
        {
          "output_type": "execute_result",
          "data": {
            "text/html": [
              "<div>\n",
              "<style scoped>\n",
              "    .dataframe tbody tr th:only-of-type {\n",
              "        vertical-align: middle;\n",
              "    }\n",
              "\n",
              "    .dataframe tbody tr th {\n",
              "        vertical-align: top;\n",
              "    }\n",
              "\n",
              "    .dataframe thead th {\n",
              "        text-align: right;\n",
              "    }\n",
              "</style>\n",
              "<table border=\"1\" class=\"dataframe\">\n",
              "  <thead>\n",
              "    <tr style=\"text-align: right;\">\n",
              "      <th></th>\n",
              "      <th>Date</th>\n",
              "      <th>Crime Count</th>\n",
              "    </tr>\n",
              "  </thead>\n",
              "  <tbody>\n",
              "    <tr>\n",
              "      <th>0</th>\n",
              "      <td>2005-01-31</td>\n",
              "      <td>33983</td>\n",
              "    </tr>\n",
              "    <tr>\n",
              "      <th>1</th>\n",
              "      <td>2005-02-28</td>\n",
              "      <td>32042</td>\n",
              "    </tr>\n",
              "    <tr>\n",
              "      <th>2</th>\n",
              "      <td>2005-03-31</td>\n",
              "      <td>36970</td>\n",
              "    </tr>\n",
              "    <tr>\n",
              "      <th>3</th>\n",
              "      <td>2005-04-30</td>\n",
              "      <td>38963</td>\n",
              "    </tr>\n",
              "    <tr>\n",
              "      <th>4</th>\n",
              "      <td>2005-05-31</td>\n",
              "      <td>40572</td>\n",
              "    </tr>\n",
              "    <tr>\n",
              "      <th>...</th>\n",
              "      <td>...</td>\n",
              "      <td>...</td>\n",
              "    </tr>\n",
              "    <tr>\n",
              "      <th>140</th>\n",
              "      <td>2016-09-30</td>\n",
              "      <td>23235</td>\n",
              "    </tr>\n",
              "    <tr>\n",
              "      <th>141</th>\n",
              "      <td>2016-10-31</td>\n",
              "      <td>23314</td>\n",
              "    </tr>\n",
              "    <tr>\n",
              "      <th>142</th>\n",
              "      <td>2016-11-30</td>\n",
              "      <td>21140</td>\n",
              "    </tr>\n",
              "    <tr>\n",
              "      <th>143</th>\n",
              "      <td>2016-12-31</td>\n",
              "      <td>19580</td>\n",
              "    </tr>\n",
              "    <tr>\n",
              "      <th>144</th>\n",
              "      <td>2017-01-31</td>\n",
              "      <td>11357</td>\n",
              "    </tr>\n",
              "  </tbody>\n",
              "</table>\n",
              "<p>145 rows × 2 columns</p>\n",
              "</div>"
            ],
            "text/plain": [
              "          Date  Crime Count\n",
              "0   2005-01-31        33983\n",
              "1   2005-02-28        32042\n",
              "2   2005-03-31        36970\n",
              "3   2005-04-30        38963\n",
              "4   2005-05-31        40572\n",
              "..         ...          ...\n",
              "140 2016-09-30        23235\n",
              "141 2016-10-31        23314\n",
              "142 2016-11-30        21140\n",
              "143 2016-12-31        19580\n",
              "144 2017-01-31        11357\n",
              "\n",
              "[145 rows x 2 columns]"
            ]
          },
          "metadata": {
            "tags": []
          },
          "execution_count": 31
        }
      ]
    },
    {
      "cell_type": "markdown",
      "metadata": {
        "id": "5tawxUZHrXRT"
      },
      "source": [
        "# STEP #4: MAKE PREDICTIONS"
      ]
    },
    {
      "cell_type": "code",
      "metadata": {
        "colab": {
          "base_uri": "https://localhost:8080/"
        },
        "id": "m-mQGs5ArXRT",
        "outputId": "ab10cea1-54f6-479e-dd32-6199325e331f"
      },
      "source": [
        "chicago_prophet_df.columns"
      ],
      "execution_count": 32,
      "outputs": [
        {
          "output_type": "execute_result",
          "data": {
            "text/plain": [
              "Index(['Date', 'Crime Count'], dtype='object')"
            ]
          },
          "metadata": {
            "tags": []
          },
          "execution_count": 32
        }
      ]
    },
    {
      "cell_type": "code",
      "metadata": {
        "id": "xbXrm4XqrXRT"
      },
      "source": [
        "chicago_prophet_df_final = chicago_prophet_df.rename(columns={'Date':'ds', 'Crime Count':'y'})\n"
      ],
      "execution_count": 33,
      "outputs": []
    },
    {
      "cell_type": "code",
      "metadata": {
        "colab": {
          "base_uri": "https://localhost:8080/",
          "height": 415
        },
        "id": "B4UzwSY6rXRT",
        "outputId": "edf27b34-7335-4aca-cda1-902d63ebadb6"
      },
      "source": [
        "chicago_prophet_df_final"
      ],
      "execution_count": 34,
      "outputs": [
        {
          "output_type": "execute_result",
          "data": {
            "text/html": [
              "<div>\n",
              "<style scoped>\n",
              "    .dataframe tbody tr th:only-of-type {\n",
              "        vertical-align: middle;\n",
              "    }\n",
              "\n",
              "    .dataframe tbody tr th {\n",
              "        vertical-align: top;\n",
              "    }\n",
              "\n",
              "    .dataframe thead th {\n",
              "        text-align: right;\n",
              "    }\n",
              "</style>\n",
              "<table border=\"1\" class=\"dataframe\">\n",
              "  <thead>\n",
              "    <tr style=\"text-align: right;\">\n",
              "      <th></th>\n",
              "      <th>ds</th>\n",
              "      <th>y</th>\n",
              "    </tr>\n",
              "  </thead>\n",
              "  <tbody>\n",
              "    <tr>\n",
              "      <th>0</th>\n",
              "      <td>2005-01-31</td>\n",
              "      <td>33983</td>\n",
              "    </tr>\n",
              "    <tr>\n",
              "      <th>1</th>\n",
              "      <td>2005-02-28</td>\n",
              "      <td>32042</td>\n",
              "    </tr>\n",
              "    <tr>\n",
              "      <th>2</th>\n",
              "      <td>2005-03-31</td>\n",
              "      <td>36970</td>\n",
              "    </tr>\n",
              "    <tr>\n",
              "      <th>3</th>\n",
              "      <td>2005-04-30</td>\n",
              "      <td>38963</td>\n",
              "    </tr>\n",
              "    <tr>\n",
              "      <th>4</th>\n",
              "      <td>2005-05-31</td>\n",
              "      <td>40572</td>\n",
              "    </tr>\n",
              "    <tr>\n",
              "      <th>...</th>\n",
              "      <td>...</td>\n",
              "      <td>...</td>\n",
              "    </tr>\n",
              "    <tr>\n",
              "      <th>140</th>\n",
              "      <td>2016-09-30</td>\n",
              "      <td>23235</td>\n",
              "    </tr>\n",
              "    <tr>\n",
              "      <th>141</th>\n",
              "      <td>2016-10-31</td>\n",
              "      <td>23314</td>\n",
              "    </tr>\n",
              "    <tr>\n",
              "      <th>142</th>\n",
              "      <td>2016-11-30</td>\n",
              "      <td>21140</td>\n",
              "    </tr>\n",
              "    <tr>\n",
              "      <th>143</th>\n",
              "      <td>2016-12-31</td>\n",
              "      <td>19580</td>\n",
              "    </tr>\n",
              "    <tr>\n",
              "      <th>144</th>\n",
              "      <td>2017-01-31</td>\n",
              "      <td>11357</td>\n",
              "    </tr>\n",
              "  </tbody>\n",
              "</table>\n",
              "<p>145 rows × 2 columns</p>\n",
              "</div>"
            ],
            "text/plain": [
              "            ds      y\n",
              "0   2005-01-31  33983\n",
              "1   2005-02-28  32042\n",
              "2   2005-03-31  36970\n",
              "3   2005-04-30  38963\n",
              "4   2005-05-31  40572\n",
              "..         ...    ...\n",
              "140 2016-09-30  23235\n",
              "141 2016-10-31  23314\n",
              "142 2016-11-30  21140\n",
              "143 2016-12-31  19580\n",
              "144 2017-01-31  11357\n",
              "\n",
              "[145 rows x 2 columns]"
            ]
          },
          "metadata": {
            "tags": []
          },
          "execution_count": 34
        }
      ]
    },
    {
      "cell_type": "code",
      "metadata": {
        "colab": {
          "base_uri": "https://localhost:8080/"
        },
        "id": "v6FSSRJhrXRU",
        "outputId": "6c5e8941-bf5b-4fac-857e-dd61ea551502"
      },
      "source": [
        "m = Prophet()\n",
        "m.fit(chicago_prophet_df_final)\n"
      ],
      "execution_count": 35,
      "outputs": [
        {
          "output_type": "stream",
          "text": [
            "INFO:numexpr.utils:NumExpr defaulting to 2 threads.\n",
            "INFO:fbprophet:Disabling weekly seasonality. Run prophet with weekly_seasonality=True to override this.\n",
            "INFO:fbprophet:Disabling daily seasonality. Run prophet with daily_seasonality=True to override this.\n"
          ],
          "name": "stderr"
        },
        {
          "output_type": "execute_result",
          "data": {
            "text/plain": [
              "<fbprophet.forecaster.Prophet at 0x7efbf85a0470>"
            ]
          },
          "metadata": {
            "tags": []
          },
          "execution_count": 35
        }
      ]
    },
    {
      "cell_type": "code",
      "metadata": {
        "id": "Tz_BiKSkrXRU"
      },
      "source": [
        "# Forcasting into the future\n",
        "future = m.make_future_dataframe(periods=365)\n",
        "forecast = m.predict(future)"
      ],
      "execution_count": 36,
      "outputs": []
    },
    {
      "cell_type": "code",
      "metadata": {
        "colab": {
          "base_uri": "https://localhost:8080/",
          "height": 609
        },
        "id": "mst9GKlhrXRU",
        "outputId": "850b9c64-e23c-4d1f-fefe-bea1bbf96b94"
      },
      "source": [
        "forecast"
      ],
      "execution_count": 37,
      "outputs": [
        {
          "output_type": "execute_result",
          "data": {
            "text/html": [
              "<div>\n",
              "<style scoped>\n",
              "    .dataframe tbody tr th:only-of-type {\n",
              "        vertical-align: middle;\n",
              "    }\n",
              "\n",
              "    .dataframe tbody tr th {\n",
              "        vertical-align: top;\n",
              "    }\n",
              "\n",
              "    .dataframe thead th {\n",
              "        text-align: right;\n",
              "    }\n",
              "</style>\n",
              "<table border=\"1\" class=\"dataframe\">\n",
              "  <thead>\n",
              "    <tr style=\"text-align: right;\">\n",
              "      <th></th>\n",
              "      <th>ds</th>\n",
              "      <th>trend</th>\n",
              "      <th>yhat_lower</th>\n",
              "      <th>yhat_upper</th>\n",
              "      <th>trend_lower</th>\n",
              "      <th>trend_upper</th>\n",
              "      <th>additive_terms</th>\n",
              "      <th>additive_terms_lower</th>\n",
              "      <th>additive_terms_upper</th>\n",
              "      <th>yearly</th>\n",
              "      <th>yearly_lower</th>\n",
              "      <th>yearly_upper</th>\n",
              "      <th>multiplicative_terms</th>\n",
              "      <th>multiplicative_terms_lower</th>\n",
              "      <th>multiplicative_terms_upper</th>\n",
              "      <th>yhat</th>\n",
              "    </tr>\n",
              "  </thead>\n",
              "  <tbody>\n",
              "    <tr>\n",
              "      <th>0</th>\n",
              "      <td>2005-01-31</td>\n",
              "      <td>60463.432502</td>\n",
              "      <td>38507.901662</td>\n",
              "      <td>72278.200513</td>\n",
              "      <td>60463.432502</td>\n",
              "      <td>60463.432502</td>\n",
              "      <td>-4803.616721</td>\n",
              "      <td>-4803.616721</td>\n",
              "      <td>-4803.616721</td>\n",
              "      <td>-4803.616721</td>\n",
              "      <td>-4803.616721</td>\n",
              "      <td>-4803.616721</td>\n",
              "      <td>0.0</td>\n",
              "      <td>0.0</td>\n",
              "      <td>0.0</td>\n",
              "      <td>55659.815781</td>\n",
              "    </tr>\n",
              "    <tr>\n",
              "      <th>1</th>\n",
              "      <td>2005-02-28</td>\n",
              "      <td>60332.766196</td>\n",
              "      <td>33551.982751</td>\n",
              "      <td>67977.308074</td>\n",
              "      <td>60332.766196</td>\n",
              "      <td>60332.766196</td>\n",
              "      <td>-9480.730557</td>\n",
              "      <td>-9480.730557</td>\n",
              "      <td>-9480.730557</td>\n",
              "      <td>-9480.730557</td>\n",
              "      <td>-9480.730557</td>\n",
              "      <td>-9480.730557</td>\n",
              "      <td>0.0</td>\n",
              "      <td>0.0</td>\n",
              "      <td>0.0</td>\n",
              "      <td>50852.035639</td>\n",
              "    </tr>\n",
              "    <tr>\n",
              "      <th>2</th>\n",
              "      <td>2005-03-31</td>\n",
              "      <td>60188.099929</td>\n",
              "      <td>42075.557505</td>\n",
              "      <td>75829.297997</td>\n",
              "      <td>60188.099929</td>\n",
              "      <td>60188.099929</td>\n",
              "      <td>-1254.934724</td>\n",
              "      <td>-1254.934724</td>\n",
              "      <td>-1254.934724</td>\n",
              "      <td>-1254.934724</td>\n",
              "      <td>-1254.934724</td>\n",
              "      <td>-1254.934724</td>\n",
              "      <td>0.0</td>\n",
              "      <td>0.0</td>\n",
              "      <td>0.0</td>\n",
              "      <td>58933.165205</td>\n",
              "    </tr>\n",
              "    <tr>\n",
              "      <th>3</th>\n",
              "      <td>2005-04-30</td>\n",
              "      <td>60048.100316</td>\n",
              "      <td>44714.418102</td>\n",
              "      <td>77246.830024</td>\n",
              "      <td>60048.100316</td>\n",
              "      <td>60048.100316</td>\n",
              "      <td>1114.162021</td>\n",
              "      <td>1114.162021</td>\n",
              "      <td>1114.162021</td>\n",
              "      <td>1114.162021</td>\n",
              "      <td>1114.162021</td>\n",
              "      <td>1114.162021</td>\n",
              "      <td>0.0</td>\n",
              "      <td>0.0</td>\n",
              "      <td>0.0</td>\n",
              "      <td>61162.262337</td>\n",
              "    </tr>\n",
              "    <tr>\n",
              "      <th>4</th>\n",
              "      <td>2005-05-31</td>\n",
              "      <td>59903.434049</td>\n",
              "      <td>47849.636217</td>\n",
              "      <td>82688.811511</td>\n",
              "      <td>59903.434049</td>\n",
              "      <td>59903.434049</td>\n",
              "      <td>5396.906083</td>\n",
              "      <td>5396.906083</td>\n",
              "      <td>5396.906083</td>\n",
              "      <td>5396.906083</td>\n",
              "      <td>5396.906083</td>\n",
              "      <td>5396.906083</td>\n",
              "      <td>0.0</td>\n",
              "      <td>0.0</td>\n",
              "      <td>0.0</td>\n",
              "      <td>65300.340133</td>\n",
              "    </tr>\n",
              "    <tr>\n",
              "      <th>...</th>\n",
              "      <td>...</td>\n",
              "      <td>...</td>\n",
              "      <td>...</td>\n",
              "      <td>...</td>\n",
              "      <td>...</td>\n",
              "      <td>...</td>\n",
              "      <td>...</td>\n",
              "      <td>...</td>\n",
              "      <td>...</td>\n",
              "      <td>...</td>\n",
              "      <td>...</td>\n",
              "      <td>...</td>\n",
              "      <td>...</td>\n",
              "      <td>...</td>\n",
              "      <td>...</td>\n",
              "      <td>...</td>\n",
              "    </tr>\n",
              "    <tr>\n",
              "      <th>505</th>\n",
              "      <td>2018-01-27</td>\n",
              "      <td>9701.640380</td>\n",
              "      <td>-11077.060423</td>\n",
              "      <td>21739.686403</td>\n",
              "      <td>9547.549805</td>\n",
              "      <td>9860.925088</td>\n",
              "      <td>-4092.154604</td>\n",
              "      <td>-4092.154604</td>\n",
              "      <td>-4092.154604</td>\n",
              "      <td>-4092.154604</td>\n",
              "      <td>-4092.154604</td>\n",
              "      <td>-4092.154604</td>\n",
              "      <td>0.0</td>\n",
              "      <td>0.0</td>\n",
              "      <td>0.0</td>\n",
              "      <td>5609.485776</td>\n",
              "    </tr>\n",
              "    <tr>\n",
              "      <th>506</th>\n",
              "      <td>2018-01-28</td>\n",
              "      <td>9688.312243</td>\n",
              "      <td>-11340.179440</td>\n",
              "      <td>21735.438691</td>\n",
              "      <td>9533.581576</td>\n",
              "      <td>9848.358931</td>\n",
              "      <td>-4239.488484</td>\n",
              "      <td>-4239.488484</td>\n",
              "      <td>-4239.488484</td>\n",
              "      <td>-4239.488484</td>\n",
              "      <td>-4239.488484</td>\n",
              "      <td>-4239.488484</td>\n",
              "      <td>0.0</td>\n",
              "      <td>0.0</td>\n",
              "      <td>0.0</td>\n",
              "      <td>5448.823759</td>\n",
              "    </tr>\n",
              "    <tr>\n",
              "      <th>507</th>\n",
              "      <td>2018-01-29</td>\n",
              "      <td>9674.984106</td>\n",
              "      <td>-10796.372963</td>\n",
              "      <td>22042.209512</td>\n",
              "      <td>9519.613347</td>\n",
              "      <td>9835.792774</td>\n",
              "      <td>-4399.420072</td>\n",
              "      <td>-4399.420072</td>\n",
              "      <td>-4399.420072</td>\n",
              "      <td>-4399.420072</td>\n",
              "      <td>-4399.420072</td>\n",
              "      <td>-4399.420072</td>\n",
              "      <td>0.0</td>\n",
              "      <td>0.0</td>\n",
              "      <td>0.0</td>\n",
              "      <td>5275.564034</td>\n",
              "    </tr>\n",
              "    <tr>\n",
              "      <th>508</th>\n",
              "      <td>2018-01-30</td>\n",
              "      <td>9661.655969</td>\n",
              "      <td>-10173.608161</td>\n",
              "      <td>21978.725801</td>\n",
              "      <td>9505.645117</td>\n",
              "      <td>9823.226617</td>\n",
              "      <td>-4571.605324</td>\n",
              "      <td>-4571.605324</td>\n",
              "      <td>-4571.605324</td>\n",
              "      <td>-4571.605324</td>\n",
              "      <td>-4571.605324</td>\n",
              "      <td>-4571.605324</td>\n",
              "      <td>0.0</td>\n",
              "      <td>0.0</td>\n",
              "      <td>0.0</td>\n",
              "      <td>5090.050645</td>\n",
              "    </tr>\n",
              "    <tr>\n",
              "      <th>509</th>\n",
              "      <td>2018-01-31</td>\n",
              "      <td>9648.327832</td>\n",
              "      <td>-11066.368681</td>\n",
              "      <td>21727.781607</td>\n",
              "      <td>9491.676888</td>\n",
              "      <td>9810.660460</td>\n",
              "      <td>-4755.746242</td>\n",
              "      <td>-4755.746242</td>\n",
              "      <td>-4755.746242</td>\n",
              "      <td>-4755.746242</td>\n",
              "      <td>-4755.746242</td>\n",
              "      <td>-4755.746242</td>\n",
              "      <td>0.0</td>\n",
              "      <td>0.0</td>\n",
              "      <td>0.0</td>\n",
              "      <td>4892.581590</td>\n",
              "    </tr>\n",
              "  </tbody>\n",
              "</table>\n",
              "<p>510 rows × 16 columns</p>\n",
              "</div>"
            ],
            "text/plain": [
              "            ds         trend  ...  multiplicative_terms_upper          yhat\n",
              "0   2005-01-31  60463.432502  ...                         0.0  55659.815781\n",
              "1   2005-02-28  60332.766196  ...                         0.0  50852.035639\n",
              "2   2005-03-31  60188.099929  ...                         0.0  58933.165205\n",
              "3   2005-04-30  60048.100316  ...                         0.0  61162.262337\n",
              "4   2005-05-31  59903.434049  ...                         0.0  65300.340133\n",
              "..         ...           ...  ...                         ...           ...\n",
              "505 2018-01-27   9701.640380  ...                         0.0   5609.485776\n",
              "506 2018-01-28   9688.312243  ...                         0.0   5448.823759\n",
              "507 2018-01-29   9674.984106  ...                         0.0   5275.564034\n",
              "508 2018-01-30   9661.655969  ...                         0.0   5090.050645\n",
              "509 2018-01-31   9648.327832  ...                         0.0   4892.581590\n",
              "\n",
              "[510 rows x 16 columns]"
            ]
          },
          "metadata": {
            "tags": []
          },
          "execution_count": 37
        }
      ]
    },
    {
      "cell_type": "code",
      "metadata": {
        "colab": {
          "base_uri": "https://localhost:8080/",
          "height": 441
        },
        "id": "Yi_o3_s9rXRU",
        "outputId": "d35150ed-f482-4833-98be-0542b79674be"
      },
      "source": [
        "figure = m.plot(forecast, xlabel='Date', ylabel='Crime Rate')"
      ],
      "execution_count": 38,
      "outputs": [
        {
          "output_type": "display_data",
          "data": {
            "image/png": "[encoded data removed]",
            "text/plain": [
              "<Figure size 720x432 with 1 Axes>"
            ]
          },
          "metadata": {
            "tags": []
          }
        }
      ]
    },
    {
      "cell_type": "code",
      "metadata": {
        "colab": {
          "base_uri": "https://localhost:8080/",
          "height": 441
        },
        "id": "zkGNEvnerXRU",
        "outputId": "9fe68c4d-7ef5-44e7-c48e-e0d9722e1998"
      },
      "source": [
        "figure3 = m.plot_components(forecast)"
      ],
      "execution_count": 39,
      "outputs": [
        {
          "output_type": "display_data",
          "data": {
            "image/png": "[encoded data removed]",
            "text/plain": [
              "<Figure size 648x432 with 2 Axes>"
            ]
          },
          "metadata": {
            "tags": []
          }
        }
      ]
    },
    {
      "cell_type": "markdown",
      "metadata": {
        "id": "KntgY3hVrXRU"
      },
      "source": [
        "# GREAT JOB, KEEP UP THE GREAT WORK!"
      ]
    }
  ]
}